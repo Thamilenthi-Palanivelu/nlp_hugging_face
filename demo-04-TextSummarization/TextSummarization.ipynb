{
  "cells": [
    {
      "cell_type": "markdown",
      "source": [
        "### Runtime\n",
        "\n",
        "- Choose the GPU runtime for this model\n",
        "- Show runtime"
      ],
      "metadata": {
        "id": "1LnaQJ2Ww5kG"
      },
      "id": "1LnaQJ2Ww5kG"
    },
    {
      "cell_type": "markdown",
      "source": [
        "\n",
        "### evaluate\n",
        "\n",
        "Overview: The evaluate library is a general-purpose library used to compute a wide range of evaluation metrics for NLP models. It's part of the Hugging Face ecosystem and provides a standardized interface to evaluate models on different tasks.\n",
        "\n",
        "Functionality:\n",
        "\n",
        "Wide Range of Metrics: It supports various metrics like accuracy, precision, recall, F1 score, BLEU, ROUGE, and more.\n",
        "\n",
        "### rouge_score\n",
        "\n",
        "Overview: The rouge_score library is a specialized library for calculating the ROUGE (Recall-Oriented Understudy for Gisting Evaluation) metric, which is commonly used to evaluate the quality of text summaries.\n"
      ],
      "metadata": {
        "id": "7520-xbmdGTz"
      },
      "id": "7520-xbmdGTz"
    },
    {
      "cell_type": "code",
      "source": [
        "!pip install evaluate\n",
        "\n",
        "!pip install rouge_score"
      ],
      "metadata": {
        "id": "Eq92Dvfjt1J7",
        "colab": {
          "base_uri": "https://localhost:8080/"
        },
        "outputId": "aeb9b2af-f6c3-437f-df1f-a9a8e86331f4"
      },
      "id": "Eq92Dvfjt1J7",
      "execution_count": 1,
      "outputs": [
        {
          "output_type": "stream",
          "name": "stdout",
          "text": [
            "Requirement already satisfied: evaluate in /usr/local/lib/python3.10/dist-packages (0.4.2)\n",
            "Requirement already satisfied: datasets>=2.0.0 in /usr/local/lib/python3.10/dist-packages (from evaluate) (2.21.0)\n",
            "Requirement already satisfied: numpy>=1.17 in /usr/local/lib/python3.10/dist-packages (from evaluate) (1.26.4)\n",
            "Requirement already satisfied: dill in /usr/local/lib/python3.10/dist-packages (from evaluate) (0.3.8)\n",
            "Requirement already satisfied: pandas in /usr/local/lib/python3.10/dist-packages (from evaluate) (2.1.4)\n",
            "Requirement already satisfied: requests>=2.19.0 in /usr/local/lib/python3.10/dist-packages (from evaluate) (2.32.3)\n",
            "Requirement already satisfied: tqdm>=4.62.1 in /usr/local/lib/python3.10/dist-packages (from evaluate) (4.66.5)\n",
            "Requirement already satisfied: xxhash in /usr/local/lib/python3.10/dist-packages (from evaluate) (3.5.0)\n",
            "Requirement already satisfied: multiprocess in /usr/local/lib/python3.10/dist-packages (from evaluate) (0.70.16)\n",
            "Requirement already satisfied: fsspec>=2021.05.0 in /usr/local/lib/python3.10/dist-packages (from fsspec[http]>=2021.05.0->evaluate) (2024.6.1)\n",
            "Requirement already satisfied: huggingface-hub>=0.7.0 in /usr/local/lib/python3.10/dist-packages (from evaluate) (0.23.5)\n",
            "Requirement already satisfied: packaging in /usr/local/lib/python3.10/dist-packages (from evaluate) (24.1)\n",
            "Requirement already satisfied: filelock in /usr/local/lib/python3.10/dist-packages (from datasets>=2.0.0->evaluate) (3.15.4)\n",
            "Requirement already satisfied: pyarrow>=15.0.0 in /usr/local/lib/python3.10/dist-packages (from datasets>=2.0.0->evaluate) (15.0.2)\n",
            "Requirement already satisfied: aiohttp in /usr/local/lib/python3.10/dist-packages (from datasets>=2.0.0->evaluate) (3.10.5)\n",
            "Requirement already satisfied: pyyaml>=5.1 in /usr/local/lib/python3.10/dist-packages (from datasets>=2.0.0->evaluate) (6.0.2)\n",
            "Requirement already satisfied: typing-extensions>=3.7.4.3 in /usr/local/lib/python3.10/dist-packages (from huggingface-hub>=0.7.0->evaluate) (4.12.2)\n",
            "Requirement already satisfied: charset-normalizer<4,>=2 in /usr/local/lib/python3.10/dist-packages (from requests>=2.19.0->evaluate) (3.3.2)\n",
            "Requirement already satisfied: idna<4,>=2.5 in /usr/local/lib/python3.10/dist-packages (from requests>=2.19.0->evaluate) (3.8)\n",
            "Requirement already satisfied: urllib3<3,>=1.21.1 in /usr/local/lib/python3.10/dist-packages (from requests>=2.19.0->evaluate) (2.0.7)\n",
            "Requirement already satisfied: certifi>=2017.4.17 in /usr/local/lib/python3.10/dist-packages (from requests>=2.19.0->evaluate) (2024.7.4)\n",
            "Requirement already satisfied: python-dateutil>=2.8.2 in /usr/local/lib/python3.10/dist-packages (from pandas->evaluate) (2.8.2)\n",
            "Requirement already satisfied: pytz>=2020.1 in /usr/local/lib/python3.10/dist-packages (from pandas->evaluate) (2024.1)\n",
            "Requirement already satisfied: tzdata>=2022.1 in /usr/local/lib/python3.10/dist-packages (from pandas->evaluate) (2024.1)\n",
            "Requirement already satisfied: aiohappyeyeballs>=2.3.0 in /usr/local/lib/python3.10/dist-packages (from aiohttp->datasets>=2.0.0->evaluate) (2.4.0)\n",
            "Requirement already satisfied: aiosignal>=1.1.2 in /usr/local/lib/python3.10/dist-packages (from aiohttp->datasets>=2.0.0->evaluate) (1.3.1)\n",
            "Requirement already satisfied: attrs>=17.3.0 in /usr/local/lib/python3.10/dist-packages (from aiohttp->datasets>=2.0.0->evaluate) (24.2.0)\n",
            "Requirement already satisfied: frozenlist>=1.1.1 in /usr/local/lib/python3.10/dist-packages (from aiohttp->datasets>=2.0.0->evaluate) (1.4.1)\n",
            "Requirement already satisfied: multidict<7.0,>=4.5 in /usr/local/lib/python3.10/dist-packages (from aiohttp->datasets>=2.0.0->evaluate) (6.0.5)\n",
            "Requirement already satisfied: yarl<2.0,>=1.0 in /usr/local/lib/python3.10/dist-packages (from aiohttp->datasets>=2.0.0->evaluate) (1.9.4)\n",
            "Requirement already satisfied: async-timeout<5.0,>=4.0 in /usr/local/lib/python3.10/dist-packages (from aiohttp->datasets>=2.0.0->evaluate) (4.0.3)\n",
            "Requirement already satisfied: six>=1.5 in /usr/local/lib/python3.10/dist-packages (from python-dateutil>=2.8.2->pandas->evaluate) (1.16.0)\n",
            "Requirement already satisfied: rouge_score in /usr/local/lib/python3.10/dist-packages (0.1.2)\n",
            "Requirement already satisfied: absl-py in /usr/local/lib/python3.10/dist-packages (from rouge_score) (1.4.0)\n",
            "Requirement already satisfied: nltk in /usr/local/lib/python3.10/dist-packages (from rouge_score) (3.8.1)\n",
            "Requirement already satisfied: numpy in /usr/local/lib/python3.10/dist-packages (from rouge_score) (1.26.4)\n",
            "Requirement already satisfied: six>=1.14.0 in /usr/local/lib/python3.10/dist-packages (from rouge_score) (1.16.0)\n",
            "Requirement already satisfied: click in /usr/local/lib/python3.10/dist-packages (from nltk->rouge_score) (8.1.7)\n",
            "Requirement already satisfied: joblib in /usr/local/lib/python3.10/dist-packages (from nltk->rouge_score) (1.4.2)\n",
            "Requirement already satisfied: regex>=2021.8.3 in /usr/local/lib/python3.10/dist-packages (from nltk->rouge_score) (2024.5.15)\n",
            "Requirement already satisfied: tqdm in /usr/local/lib/python3.10/dist-packages (from nltk->rouge_score) (4.66.5)\n"
          ]
        }
      ]
    },
    {
      "cell_type": "code",
      "source": [
        "!pip install pyarrow==15.0.2"
      ],
      "metadata": {
        "colab": {
          "base_uri": "https://localhost:8080/"
        },
        "id": "xHLh-KutM_v8",
        "outputId": "897562f6-1e67-4d97-e012-933cc372772a"
      },
      "id": "xHLh-KutM_v8",
      "execution_count": 2,
      "outputs": [
        {
          "output_type": "stream",
          "name": "stdout",
          "text": [
            "Requirement already satisfied: pyarrow==15.0.2 in /usr/local/lib/python3.10/dist-packages (15.0.2)\n",
            "Requirement already satisfied: numpy<2,>=1.16.6 in /usr/local/lib/python3.10/dist-packages (from pyarrow==15.0.2) (1.26.4)\n"
          ]
        }
      ]
    },
    {
      "cell_type": "code",
      "execution_count": 1,
      "id": "3778a708",
      "metadata": {
        "id": "3778a708"
      },
      "outputs": [],
      "source": [
        "from transformers import pipeline"
      ]
    },
    {
      "cell_type": "code",
      "execution_count": 3,
      "id": "1677db5f",
      "metadata": {
        "colab": {
          "base_uri": "https://localhost:8080/"
        },
        "id": "1677db5f",
        "outputId": "c0d563ce-2f08-4ff7-864b-5a0776c62c69"
      },
      "outputs": [
        {
          "output_type": "stream",
          "name": "stdout",
          "text": [
            "\n",
            "  We are on the brink of a technological revolution that could jumpstart productivity, boost global growth and raise incomes around the world. \n",
            "  Yet it could also replace jobs and deepen inequality. The rapid advance of artificial intelligence has captivated the world, causing both excitement and alarm, and \n",
            "  raising important questions about its potential impact on the global economy. The net effect is difficult to foresee, as AI will ripple through economies in complex ways. \n",
            "  What we can say with some confidence is that we will need to come up with a set of policies to safely leverage the vast potential of AI for the benefit of humanity.\n",
            "\n",
            "  In a new analysis, IMF staff examine the potential impact of AI on the global labor market. Many studies have predicted the likelihood that jobs will be replaced by AI.\n",
            "  Yet we know that in many cases AI is likely to complement human work. The IMF analysis captures both these forces.\n",
            "\n",
            "  The findings are striking: almost 40 percent of global employment is exposed to AI. Historically, automation and information technology have tended to affect routine tasks, \n",
            "  but one of the things that sets AI apart is its ability to impact high-skilled jobs. As a result, advanced economies face greater risks from AI—but also more opportunities to \n",
            "  leverage its benefits—compared with emerging market and developing economies.\n",
            "\n",
            "  In advanced economies, about 60 percent of jobs may be impacted by AI. Roughly half the exposed jobs may benefit from AI integration, enhancing productivity. For the other \n",
            "  half, AI applications may execute key tasks currently performed by humans, which could lower labor demand, leading to lower wages and reduced hiring. In the most extreme \n",
            "  cases, some of these jobs may disappear.\n",
            "\n",
            "  In emerging markets and low-income countries, by contrast, AI exposure is expected to be 40 percent and 26 percent, respectively. These findings suggest emerging market and \n",
            "  developing economies face fewer immediate disruptions from AI. At the same time, many of these countries don’t have the infrastructure or skilled workforces to harness the \n",
            "  benefits of AI, raising the risk that over time the technology could worsen inequality among nations.\n",
            "\n"
          ]
        }
      ],
      "source": [
        "content = \"\"\"\n",
        "  We are on the brink of a technological revolution that could jumpstart productivity, boost global growth and raise incomes around the world.\n",
        "  Yet it could also replace jobs and deepen inequality. The rapid advance of artificial intelligence has captivated the world, causing both excitement and alarm, and\n",
        "  raising important questions about its potential impact on the global economy. The net effect is difficult to foresee, as AI will ripple through economies in complex ways.\n",
        "  What we can say with some confidence is that we will need to come up with a set of policies to safely leverage the vast potential of AI for the benefit of humanity.\n",
        "\n",
        "  In a new analysis, IMF staff examine the potential impact of AI on the global labor market. Many studies have predicted the likelihood that jobs will be replaced by AI.\n",
        "  Yet we know that in many cases AI is likely to complement human work. The IMF analysis captures both these forces.\n",
        "\n",
        "  The findings are striking: almost 40 percent of global employment is exposed to AI. Historically, automation and information technology have tended to affect routine tasks,\n",
        "  but one of the things that sets AI apart is its ability to impact high-skilled jobs. As a result, advanced economies face greater risks from AI—but also more opportunities to\n",
        "  leverage its benefits—compared with emerging market and developing economies.\n",
        "\n",
        "  In advanced economies, about 60 percent of jobs may be impacted by AI. Roughly half the exposed jobs may benefit from AI integration, enhancing productivity. For the other\n",
        "  half, AI applications may execute key tasks currently performed by humans, which could lower labor demand, leading to lower wages and reduced hiring. In the most extreme\n",
        "  cases, some of these jobs may disappear.\n",
        "\n",
        "  In emerging markets and low-income countries, by contrast, AI exposure is expected to be 40 percent and 26 percent, respectively. These findings suggest emerging market and\n",
        "  developing economies face fewer immediate disruptions from AI. At the same time, many of these countries don’t have the infrastructure or skilled workforces to harness the\n",
        "  benefits of AI, raising the risk that over time the technology could worsen inequality among nations.\n",
        "\"\"\"\n",
        "\n",
        "print(content)"
      ]
    },
    {
      "cell_type": "markdown",
      "source": [
        "- Go to https://huggingface.co/\n",
        "- Click on Models -> Select \"Summarization\" from the left\n",
        "- Show that the facebook/bart-large-cnn is the first model\n",
        "\n",
        "https://huggingface.co/facebook/bart-large-cnn"
      ],
      "metadata": {
        "id": "1nOSonuZaGec"
      },
      "id": "1nOSonuZaGec"
    },
    {
      "cell_type": "code",
      "execution_count": 9,
      "id": "c7352dbd",
      "metadata": {
        "colab": {
          "base_uri": "https://localhost:8080/"
        },
        "id": "c7352dbd",
        "outputId": "a5e9a0b7-7627-4a46-f1d7-cd711bdad174"
      },
      "outputs": [
        {
          "output_type": "execute_result",
          "data": {
            "text/plain": [
              "<transformers.pipelines.text2text_generation.SummarizationPipeline at 0x7bf5ab4bf760>"
            ]
          },
          "metadata": {},
          "execution_count": 9
        }
      ],
      "source": [
        "summarization_pipeline = pipeline(\"summarization\", model=\"facebook/bart-large-cnn\", device=0)\n",
        "\n",
        "summarization_pipeline"
      ]
    },
    {
      "cell_type": "code",
      "source": [
        "summarization_pipeline.device"
      ],
      "metadata": {
        "colab": {
          "base_uri": "https://localhost:8080/"
        },
        "id": "UTJRMr-b0HJF",
        "outputId": "5e1425b1-db81-4827-8dab-4f40216e8466"
      },
      "id": "UTJRMr-b0HJF",
      "execution_count": 10,
      "outputs": [
        {
          "output_type": "execute_result",
          "data": {
            "text/plain": [
              "device(type='cuda', index=0)"
            ]
          },
          "metadata": {},
          "execution_count": 10
        }
      ]
    },
    {
      "cell_type": "code",
      "execution_count": 11,
      "id": "75163469",
      "metadata": {
        "colab": {
          "base_uri": "https://localhost:8080/"
        },
        "id": "75163469",
        "outputId": "4fe6210e-91b5-4e9e-9cc8-0a5f0e45bf3d"
      },
      "outputs": [
        {
          "output_type": "execute_result",
          "data": {
            "text/plain": [
              "[{'summary_text': 'The rapid advance of artificial intelligence has captivated the world. IMF staff examine the potential impact of AI on the global labor market. In advanced economies, about 60 percent of jobs may be impacted by AI. In emerging markets and low-income countries, by contrast, AI exposure is expected to be 40 percent and 26 percent.'}]"
            ]
          },
          "metadata": {},
          "execution_count": 11
        }
      ],
      "source": [
        "summarization_pipeline(content)"
      ]
    },
    {
      "cell_type": "code",
      "execution_count": 12,
      "id": "1ded64b3",
      "metadata": {
        "colab": {
          "base_uri": "https://localhost:8080/"
        },
        "id": "1ded64b3",
        "outputId": "c41e0aa6-3ddc-4f7c-a5d6-8f0662d4b8c9"
      },
      "outputs": [
        {
          "output_type": "stream",
          "name": "stdout",
          "text": [
            "The rapid advance of artificial intelligence has captivated the world. IMF staff examine the potential impact of AI on the global labor market. In advanced economies, about 60 percent of jobs may be impacted by AI.\n"
          ]
        }
      ],
      "source": [
        "results = summarization_pipeline(content, max_length=80, min_length=20)\n",
        "\n",
        "print(results[0]['summary_text'])"
      ]
    },
    {
      "cell_type": "markdown",
      "source": [
        "https://huggingface.co/Falconsai/text_summarization"
      ],
      "metadata": {
        "id": "ZI9edzgR2YRs"
      },
      "id": "ZI9edzgR2YRs"
    },
    {
      "cell_type": "code",
      "execution_count": 14,
      "id": "f5b7c82e",
      "metadata": {
        "colab": {
          "base_uri": "https://localhost:8080/"
        },
        "id": "f5b7c82e",
        "outputId": "9d1f14f5-5d1f-464d-9bb5-8f0db5f8f1a8"
      },
      "outputs": [
        {
          "output_type": "execute_result",
          "data": {
            "text/plain": [
              "<transformers.pipelines.text2text_generation.SummarizationPipeline at 0x7bf5b229b970>"
            ]
          },
          "metadata": {},
          "execution_count": 14
        }
      ],
      "source": [
        "summarization_pipeline = pipeline(\"summarization\", model=\"Falconsai/text_summarization\", device=0)\n",
        "\n",
        "summarization_pipeline"
      ]
    },
    {
      "cell_type": "code",
      "execution_count": 15,
      "id": "36cf1213",
      "metadata": {
        "colab": {
          "base_uri": "https://localhost:8080/"
        },
        "id": "36cf1213",
        "outputId": "dbd23343-c4f6-4f95-e4ff-b593286fc74b"
      },
      "outputs": [
        {
          "output_type": "stream",
          "name": "stdout",
          "text": [
            "We are on the brink of a technological revolution that could jumpstart productivity, boost global growth and raise incomes around the world . The rapid advance of artificial intelligence has captivated the world, causing both excitement and alarm, and raising important questions about its potential impact on the global economy . In a new analysis, IMF staff examine the potential impact of AI on\n"
          ]
        }
      ],
      "source": [
        "results = summarization_pipeline(content, max_length=80, min_length=20)\n",
        "\n",
        "print(results[0]['summary_text'])"
      ]
    },
    {
      "cell_type": "markdown",
      "source": [
        "\n",
        "- Behind the scenes create a folder called news_articles in Google Drive and upload the news_articles.csv file there\n",
        "- Go to  news_articles/ on https://drive.google.com/\n",
        "- https://drive.google.com/drive/u/0/folders/11AKRIT_VEkg_f3XsIVNik6w-YB6FZj8Z\n",
        "- Run the command below\n",
        "- Enable all permissions\n",
        "- Open up the folder on the left and show the Drive mounted\n"
      ],
      "metadata": {
        "id": "TEI_wf9Xdxob"
      },
      "id": "TEI_wf9Xdxob"
    },
    {
      "cell_type": "code",
      "execution_count": 2,
      "id": "jrV40x-zGoeo",
      "metadata": {
        "colab": {
          "base_uri": "https://localhost:8080/"
        },
        "id": "jrV40x-zGoeo",
        "outputId": "1d4fde05-0f10-471e-c017-12a436264081"
      },
      "outputs": [
        {
          "output_type": "stream",
          "name": "stdout",
          "text": [
            "Drive already mounted at /content/drive; to attempt to forcibly remount, call drive.mount(\"/content/drive\", force_remount=True).\n"
          ]
        }
      ],
      "source": [
        "from google.colab import drive\n",
        "\n",
        "drive.mount('/content/drive')"
      ]
    },
    {
      "cell_type": "code",
      "execution_count": 3,
      "id": "ff8ef6af",
      "metadata": {
        "colab": {
          "base_uri": "https://localhost:8080/",
          "height": 677
        },
        "id": "ff8ef6af",
        "outputId": "4a84f65a-70f4-4c3c-dd2a-767ba23e8b6e",
        "scrolled": false
      },
      "outputs": [
        {
          "output_type": "execute_result",
          "data": {
            "text/plain": [
              "                                                Content  \\\n",
              "2634  By . Ellie Zolfagharifard . We hardly ever thi...   \n",
              "2349  Media playback is not supported on this device...   \n",
              "3129  The permit will allow those living in Reading,...   \n",
              "3962  The \"Kon-Tiki2\" expedition began in Peru in No...   \n",
              "3020  (CNN) -- During a family trip to the beach las...   \n",
              "3943  Ched Evans was seen smiling in public today as...   \n",
              "170   ASUNCION, Paraguay (CNN)  -- A second woman st...   \n",
              "2190  Claire Blackman, the wife of Royal Marine Serg...   \n",
              "3710  Mr Mbabazi made the announcement on You Tube, ...   \n",
              "1670  (CNN) -- Dharun Ravi, the former Rutgers Unive...   \n",
              "1559  By . Daily Mail Reporter . PUBLISHED: . 17:44 ...   \n",
              "2848  Ming Jiang was being hounded by creditors when...   \n",
              "2820  Jose Salvador Alvarenga thanked the president ...   \n",
              "850   A coroner is due to start hearing evidence at ...   \n",
              "3204  By . Victoria Woollaston . A pair of German in...   \n",
              "4990  By . Wills Robinson . PUBLISHED: . 03:33 EST, ...   \n",
              "3245  Maths teachers are to be flown in from China t...   \n",
              "3209  Myles Gibson caught the 51lb (23kg) fish at Ta...   \n",
              "3524  Sean Keffer was pronounced dead at the scene o...   \n",
              "4092  By . David Mccormack . A shocking new video il...   \n",
              "\n",
              "                                                Summary         Dataset  \n",
              "2634  Michael Stevens outlines the devastating scena...  CNN/Daily Mail  \n",
              "2349  Taekwondo world champion Bianca Walkden says s...            XSum  \n",
              "3129  A permit will be needed for some Berkshire res...            XSum  \n",
              "3962  Authorities in Chile say they have rescued 14 ...            XSum  \n",
              "3020  Growing black bump turns out to be a sea snail...  CNN/Daily Mail  \n",
              "3943  Ched Evans visited the parents of his girlfrie...  CNN/Daily Mail  \n",
              "170   Paraguayan President Fernando Lugo fathered so...  CNN/Daily Mail  \n",
              "2190  MPs and senior military figures among those ca...  CNN/Daily Mail  \n",
              "3710  Uganda's former Prime Minister Amama Mbabazi i...            XSum  \n",
              "1670  NEW: Ravi's court appearance formalized his de...  CNN/Daily Mail  \n",
              "1559  Dominique Nolff died from multiple gunshot wou...  CNN/Daily Mail  \n",
              "2848  A gambler who murdered a friend to claim his i...            XSum  \n",
              "2820  A castaway from El Salvador who claims he spen...            XSum  \n",
              "850   The father of a teenage army recruit found dea...            XSum  \n",
              "3204  Lernstift pen has built-in handwriting softwar...  CNN/Daily Mail  \n",
              "4990  Cecilia Bury, 87, said rumours Anne, 56, was i...  CNN/Daily Mail  \n",
              "3245  Teachers put in schools from September to prom...  CNN/Daily Mail  \n",
              "3209  A professional angler once dubbed \"The Rodfath...            XSum  \n",
              "3524  Three Philadelphia-area teenagers, Ryan Lesher...  CNN/Daily Mail  \n",
              "4092  Jason Roberts, who is white, spent 30 minutes ...  CNN/Daily Mail  "
            ],
            "text/html": [
              "\n",
              "  <div id=\"df-670177f1-41eb-4550-a6cc-7cabc295712b\" class=\"colab-df-container\">\n",
              "    <div>\n",
              "<style scoped>\n",
              "    .dataframe tbody tr th:only-of-type {\n",
              "        vertical-align: middle;\n",
              "    }\n",
              "\n",
              "    .dataframe tbody tr th {\n",
              "        vertical-align: top;\n",
              "    }\n",
              "\n",
              "    .dataframe thead th {\n",
              "        text-align: right;\n",
              "    }\n",
              "</style>\n",
              "<table border=\"1\" class=\"dataframe\">\n",
              "  <thead>\n",
              "    <tr style=\"text-align: right;\">\n",
              "      <th></th>\n",
              "      <th>Content</th>\n",
              "      <th>Summary</th>\n",
              "      <th>Dataset</th>\n",
              "    </tr>\n",
              "  </thead>\n",
              "  <tbody>\n",
              "    <tr>\n",
              "      <th>2634</th>\n",
              "      <td>By . Ellie Zolfagharifard . We hardly ever thi...</td>\n",
              "      <td>Michael Stevens outlines the devastating scena...</td>\n",
              "      <td>CNN/Daily Mail</td>\n",
              "    </tr>\n",
              "    <tr>\n",
              "      <th>2349</th>\n",
              "      <td>Media playback is not supported on this device...</td>\n",
              "      <td>Taekwondo world champion Bianca Walkden says s...</td>\n",
              "      <td>XSum</td>\n",
              "    </tr>\n",
              "    <tr>\n",
              "      <th>3129</th>\n",
              "      <td>The permit will allow those living in Reading,...</td>\n",
              "      <td>A permit will be needed for some Berkshire res...</td>\n",
              "      <td>XSum</td>\n",
              "    </tr>\n",
              "    <tr>\n",
              "      <th>3962</th>\n",
              "      <td>The \"Kon-Tiki2\" expedition began in Peru in No...</td>\n",
              "      <td>Authorities in Chile say they have rescued 14 ...</td>\n",
              "      <td>XSum</td>\n",
              "    </tr>\n",
              "    <tr>\n",
              "      <th>3020</th>\n",
              "      <td>(CNN) -- During a family trip to the beach las...</td>\n",
              "      <td>Growing black bump turns out to be a sea snail...</td>\n",
              "      <td>CNN/Daily Mail</td>\n",
              "    </tr>\n",
              "    <tr>\n",
              "      <th>3943</th>\n",
              "      <td>Ched Evans was seen smiling in public today as...</td>\n",
              "      <td>Ched Evans visited the parents of his girlfrie...</td>\n",
              "      <td>CNN/Daily Mail</td>\n",
              "    </tr>\n",
              "    <tr>\n",
              "      <th>170</th>\n",
              "      <td>ASUNCION, Paraguay (CNN)  -- A second woman st...</td>\n",
              "      <td>Paraguayan President Fernando Lugo fathered so...</td>\n",
              "      <td>CNN/Daily Mail</td>\n",
              "    </tr>\n",
              "    <tr>\n",
              "      <th>2190</th>\n",
              "      <td>Claire Blackman, the wife of Royal Marine Serg...</td>\n",
              "      <td>MPs and senior military figures among those ca...</td>\n",
              "      <td>CNN/Daily Mail</td>\n",
              "    </tr>\n",
              "    <tr>\n",
              "      <th>3710</th>\n",
              "      <td>Mr Mbabazi made the announcement on You Tube, ...</td>\n",
              "      <td>Uganda's former Prime Minister Amama Mbabazi i...</td>\n",
              "      <td>XSum</td>\n",
              "    </tr>\n",
              "    <tr>\n",
              "      <th>1670</th>\n",
              "      <td>(CNN) -- Dharun Ravi, the former Rutgers Unive...</td>\n",
              "      <td>NEW: Ravi's court appearance formalized his de...</td>\n",
              "      <td>CNN/Daily Mail</td>\n",
              "    </tr>\n",
              "    <tr>\n",
              "      <th>1559</th>\n",
              "      <td>By . Daily Mail Reporter . PUBLISHED: . 17:44 ...</td>\n",
              "      <td>Dominique Nolff died from multiple gunshot wou...</td>\n",
              "      <td>CNN/Daily Mail</td>\n",
              "    </tr>\n",
              "    <tr>\n",
              "      <th>2848</th>\n",
              "      <td>Ming Jiang was being hounded by creditors when...</td>\n",
              "      <td>A gambler who murdered a friend to claim his i...</td>\n",
              "      <td>XSum</td>\n",
              "    </tr>\n",
              "    <tr>\n",
              "      <th>2820</th>\n",
              "      <td>Jose Salvador Alvarenga thanked the president ...</td>\n",
              "      <td>A castaway from El Salvador who claims he spen...</td>\n",
              "      <td>XSum</td>\n",
              "    </tr>\n",
              "    <tr>\n",
              "      <th>850</th>\n",
              "      <td>A coroner is due to start hearing evidence at ...</td>\n",
              "      <td>The father of a teenage army recruit found dea...</td>\n",
              "      <td>XSum</td>\n",
              "    </tr>\n",
              "    <tr>\n",
              "      <th>3204</th>\n",
              "      <td>By . Victoria Woollaston . A pair of German in...</td>\n",
              "      <td>Lernstift pen has built-in handwriting softwar...</td>\n",
              "      <td>CNN/Daily Mail</td>\n",
              "    </tr>\n",
              "    <tr>\n",
              "      <th>4990</th>\n",
              "      <td>By . Wills Robinson . PUBLISHED: . 03:33 EST, ...</td>\n",
              "      <td>Cecilia Bury, 87, said rumours Anne, 56, was i...</td>\n",
              "      <td>CNN/Daily Mail</td>\n",
              "    </tr>\n",
              "    <tr>\n",
              "      <th>3245</th>\n",
              "      <td>Maths teachers are to be flown in from China t...</td>\n",
              "      <td>Teachers put in schools from September to prom...</td>\n",
              "      <td>CNN/Daily Mail</td>\n",
              "    </tr>\n",
              "    <tr>\n",
              "      <th>3209</th>\n",
              "      <td>Myles Gibson caught the 51lb (23kg) fish at Ta...</td>\n",
              "      <td>A professional angler once dubbed \"The Rodfath...</td>\n",
              "      <td>XSum</td>\n",
              "    </tr>\n",
              "    <tr>\n",
              "      <th>3524</th>\n",
              "      <td>Sean Keffer was pronounced dead at the scene o...</td>\n",
              "      <td>Three Philadelphia-area teenagers, Ryan Lesher...</td>\n",
              "      <td>CNN/Daily Mail</td>\n",
              "    </tr>\n",
              "    <tr>\n",
              "      <th>4092</th>\n",
              "      <td>By . David Mccormack . A shocking new video il...</td>\n",
              "      <td>Jason Roberts, who is white, spent 30 minutes ...</td>\n",
              "      <td>CNN/Daily Mail</td>\n",
              "    </tr>\n",
              "  </tbody>\n",
              "</table>\n",
              "</div>\n",
              "    <div class=\"colab-df-buttons\">\n",
              "\n",
              "  <div class=\"colab-df-container\">\n",
              "    <button class=\"colab-df-convert\" onclick=\"convertToInteractive('df-670177f1-41eb-4550-a6cc-7cabc295712b')\"\n",
              "            title=\"Convert this dataframe to an interactive table.\"\n",
              "            style=\"display:none;\">\n",
              "\n",
              "  <svg xmlns=\"http://www.w3.org/2000/svg\" height=\"24px\" viewBox=\"0 -960 960 960\">\n",
              "    <path d=\"M120-120v-720h720v720H120Zm60-500h600v-160H180v160Zm220 220h160v-160H400v160Zm0 220h160v-160H400v160ZM180-400h160v-160H180v160Zm440 0h160v-160H620v160ZM180-180h160v-160H180v160Zm440 0h160v-160H620v160Z\"/>\n",
              "  </svg>\n",
              "    </button>\n",
              "\n",
              "  <style>\n",
              "    .colab-df-container {\n",
              "      display:flex;\n",
              "      gap: 12px;\n",
              "    }\n",
              "\n",
              "    .colab-df-convert {\n",
              "      background-color: #E8F0FE;\n",
              "      border: none;\n",
              "      border-radius: 50%;\n",
              "      cursor: pointer;\n",
              "      display: none;\n",
              "      fill: #1967D2;\n",
              "      height: 32px;\n",
              "      padding: 0 0 0 0;\n",
              "      width: 32px;\n",
              "    }\n",
              "\n",
              "    .colab-df-convert:hover {\n",
              "      background-color: #E2EBFA;\n",
              "      box-shadow: 0px 1px 2px rgba(60, 64, 67, 0.3), 0px 1px 3px 1px rgba(60, 64, 67, 0.15);\n",
              "      fill: #174EA6;\n",
              "    }\n",
              "\n",
              "    .colab-df-buttons div {\n",
              "      margin-bottom: 4px;\n",
              "    }\n",
              "\n",
              "    [theme=dark] .colab-df-convert {\n",
              "      background-color: #3B4455;\n",
              "      fill: #D2E3FC;\n",
              "    }\n",
              "\n",
              "    [theme=dark] .colab-df-convert:hover {\n",
              "      background-color: #434B5C;\n",
              "      box-shadow: 0px 1px 3px 1px rgba(0, 0, 0, 0.15);\n",
              "      filter: drop-shadow(0px 1px 2px rgba(0, 0, 0, 0.3));\n",
              "      fill: #FFFFFF;\n",
              "    }\n",
              "  </style>\n",
              "\n",
              "    <script>\n",
              "      const buttonEl =\n",
              "        document.querySelector('#df-670177f1-41eb-4550-a6cc-7cabc295712b button.colab-df-convert');\n",
              "      buttonEl.style.display =\n",
              "        google.colab.kernel.accessAllowed ? 'block' : 'none';\n",
              "\n",
              "      async function convertToInteractive(key) {\n",
              "        const element = document.querySelector('#df-670177f1-41eb-4550-a6cc-7cabc295712b');\n",
              "        const dataTable =\n",
              "          await google.colab.kernel.invokeFunction('convertToInteractive',\n",
              "                                                    [key], {});\n",
              "        if (!dataTable) return;\n",
              "\n",
              "        const docLinkHtml = 'Like what you see? Visit the ' +\n",
              "          '<a target=\"_blank\" href=https://colab.research.google.com/notebooks/data_table.ipynb>data table notebook</a>'\n",
              "          + ' to learn more about interactive tables.';\n",
              "        element.innerHTML = '';\n",
              "        dataTable['output_type'] = 'display_data';\n",
              "        await google.colab.output.renderOutput(dataTable, element);\n",
              "        const docLink = document.createElement('div');\n",
              "        docLink.innerHTML = docLinkHtml;\n",
              "        element.appendChild(docLink);\n",
              "      }\n",
              "    </script>\n",
              "  </div>\n",
              "\n",
              "\n",
              "<div id=\"df-1756efbd-ab98-4479-9054-753e62301e38\">\n",
              "  <button class=\"colab-df-quickchart\" onclick=\"quickchart('df-1756efbd-ab98-4479-9054-753e62301e38')\"\n",
              "            title=\"Suggest charts\"\n",
              "            style=\"display:none;\">\n",
              "\n",
              "<svg xmlns=\"http://www.w3.org/2000/svg\" height=\"24px\"viewBox=\"0 0 24 24\"\n",
              "     width=\"24px\">\n",
              "    <g>\n",
              "        <path d=\"M19 3H5c-1.1 0-2 .9-2 2v14c0 1.1.9 2 2 2h14c1.1 0 2-.9 2-2V5c0-1.1-.9-2-2-2zM9 17H7v-7h2v7zm4 0h-2V7h2v10zm4 0h-2v-4h2v4z\"/>\n",
              "    </g>\n",
              "</svg>\n",
              "  </button>\n",
              "\n",
              "<style>\n",
              "  .colab-df-quickchart {\n",
              "      --bg-color: #E8F0FE;\n",
              "      --fill-color: #1967D2;\n",
              "      --hover-bg-color: #E2EBFA;\n",
              "      --hover-fill-color: #174EA6;\n",
              "      --disabled-fill-color: #AAA;\n",
              "      --disabled-bg-color: #DDD;\n",
              "  }\n",
              "\n",
              "  [theme=dark] .colab-df-quickchart {\n",
              "      --bg-color: #3B4455;\n",
              "      --fill-color: #D2E3FC;\n",
              "      --hover-bg-color: #434B5C;\n",
              "      --hover-fill-color: #FFFFFF;\n",
              "      --disabled-bg-color: #3B4455;\n",
              "      --disabled-fill-color: #666;\n",
              "  }\n",
              "\n",
              "  .colab-df-quickchart {\n",
              "    background-color: var(--bg-color);\n",
              "    border: none;\n",
              "    border-radius: 50%;\n",
              "    cursor: pointer;\n",
              "    display: none;\n",
              "    fill: var(--fill-color);\n",
              "    height: 32px;\n",
              "    padding: 0;\n",
              "    width: 32px;\n",
              "  }\n",
              "\n",
              "  .colab-df-quickchart:hover {\n",
              "    background-color: var(--hover-bg-color);\n",
              "    box-shadow: 0 1px 2px rgba(60, 64, 67, 0.3), 0 1px 3px 1px rgba(60, 64, 67, 0.15);\n",
              "    fill: var(--button-hover-fill-color);\n",
              "  }\n",
              "\n",
              "  .colab-df-quickchart-complete:disabled,\n",
              "  .colab-df-quickchart-complete:disabled:hover {\n",
              "    background-color: var(--disabled-bg-color);\n",
              "    fill: var(--disabled-fill-color);\n",
              "    box-shadow: none;\n",
              "  }\n",
              "\n",
              "  .colab-df-spinner {\n",
              "    border: 2px solid var(--fill-color);\n",
              "    border-color: transparent;\n",
              "    border-bottom-color: var(--fill-color);\n",
              "    animation:\n",
              "      spin 1s steps(1) infinite;\n",
              "  }\n",
              "\n",
              "  @keyframes spin {\n",
              "    0% {\n",
              "      border-color: transparent;\n",
              "      border-bottom-color: var(--fill-color);\n",
              "      border-left-color: var(--fill-color);\n",
              "    }\n",
              "    20% {\n",
              "      border-color: transparent;\n",
              "      border-left-color: var(--fill-color);\n",
              "      border-top-color: var(--fill-color);\n",
              "    }\n",
              "    30% {\n",
              "      border-color: transparent;\n",
              "      border-left-color: var(--fill-color);\n",
              "      border-top-color: var(--fill-color);\n",
              "      border-right-color: var(--fill-color);\n",
              "    }\n",
              "    40% {\n",
              "      border-color: transparent;\n",
              "      border-right-color: var(--fill-color);\n",
              "      border-top-color: var(--fill-color);\n",
              "    }\n",
              "    60% {\n",
              "      border-color: transparent;\n",
              "      border-right-color: var(--fill-color);\n",
              "    }\n",
              "    80% {\n",
              "      border-color: transparent;\n",
              "      border-right-color: var(--fill-color);\n",
              "      border-bottom-color: var(--fill-color);\n",
              "    }\n",
              "    90% {\n",
              "      border-color: transparent;\n",
              "      border-bottom-color: var(--fill-color);\n",
              "    }\n",
              "  }\n",
              "</style>\n",
              "\n",
              "  <script>\n",
              "    async function quickchart(key) {\n",
              "      const quickchartButtonEl =\n",
              "        document.querySelector('#' + key + ' button');\n",
              "      quickchartButtonEl.disabled = true;  // To prevent multiple clicks.\n",
              "      quickchartButtonEl.classList.add('colab-df-spinner');\n",
              "      try {\n",
              "        const charts = await google.colab.kernel.invokeFunction(\n",
              "            'suggestCharts', [key], {});\n",
              "      } catch (error) {\n",
              "        console.error('Error during call to suggestCharts:', error);\n",
              "      }\n",
              "      quickchartButtonEl.classList.remove('colab-df-spinner');\n",
              "      quickchartButtonEl.classList.add('colab-df-quickchart-complete');\n",
              "    }\n",
              "    (() => {\n",
              "      let quickchartButtonEl =\n",
              "        document.querySelector('#df-1756efbd-ab98-4479-9054-753e62301e38 button');\n",
              "      quickchartButtonEl.style.display =\n",
              "        google.colab.kernel.accessAllowed ? 'block' : 'none';\n",
              "    })();\n",
              "  </script>\n",
              "</div>\n",
              "\n",
              "    </div>\n",
              "  </div>\n"
            ],
            "application/vnd.google.colaboratory.intrinsic+json": {
              "type": "dataframe",
              "summary": "{\n  \"name\": \"news_df\",\n  \"rows\": 20,\n  \"fields\": [\n    {\n      \"column\": \"Content\",\n      \"properties\": {\n        \"dtype\": \"string\",\n        \"num_unique_values\": 20,\n        \"samples\": [\n          \"By . Ellie Zolfagharifard . We hardly ever think about it, but the Earth we\\u2019re standing on rotates at around 1,100 miles per hour (1,670 km/h). But what if that rotation suddenly stopped? That's what Michael Stevens, also known as Vsauce on YouTube, set out to answer with his latest video. The London-based scientist has outlined the devastating impact that a sudden halt to the Earth\\u2019s rotation would have on life as we know it. Scroll down for video . Michael Stevens, also known as Vsauce on YouTube, has described what would happen if Earth stopped turning.\\u00a0The gravity of the still Earth is the strongest at the polar regions (shown in green). It is intermediate in the middle latitudes and weakest at the high altitudes of the Andes, close to the equator . Everything would be launched in a ballistic trajectory - around 1,100 mph (1,670 km/h). Those who are somehow able to survive turning into 'supersonic tumbleweed' would have powerful winds to content with, which could destroy everything in their path. Meanwhile, Earth\\u2019s magnetic field would cease to exist and we would be dosed with deadly amounts of ionising radiation. The Earth would become an almost perfect sphere, as the current rotational velocity causes the Earth to bulge out around its equator. On perfect sphere Earth, the world\\u2019s oceans would redistribute, flooding many areas of the planet with a huge volume of water. If the Earth stopped spinning, it would take 365 days for the Sun to move through the sky and return to the same position. If the Earth stopped spinning suddenly, the atmosphere would still be in motion with the Earth's original 1,100 mile per hour (1,670 km/h) rotation speed at the equator. Stevens describes how most people would die a horrific death. \\u2018Immediately everything that wasn\\u2019t on Earth and wasn\\u2019t safely at the poles would continue to moving as it had,\\u2019 he explains. \\u2018It would be flung due east at 1000mph\\u2026Your body would immediately become a 9inch calibre bullet.\\u2019 Those who were somehow able to survive turning into 'supersonic tumbleweed' would have powerful winds to contend with, which could destroy everything in their path. \\u2018Gusts of wind as fast as those near an atomic bomb detonation would blast past the surface and up into the sky forming worldwide storms of unprecedented magnitude,\\u2019 continued Mr Stevens. \\u2018The friction alone, caused by the now stopped Earth colliding with these winds would be enough to cause massive fires and unparalleled erosion\\u2019. Meanwhile, Earth\\u2019s magnetic field would cease to exist and we would be dosed with deadly amounts of ionising radiation. The Earth would become an almost perfect sphere, as the current rotational velocity causes the Earth to bulge out around its equator. Because of the Earth\\u2019s bulge in the middle, the oceans are held out at the equator by 5 miles (8 km). On a perfect sphere Earth, the world\\u2019s oceans would redistribute, flooding many areas of the planet with a huge volume of water. Those who are somehow able to survive turning into 'supersonic tumbleweed' would have powerful winds to contend with, which could destroy everything in their path. \\u2018Gusts of wind as fast as those near an atomic bomb detonation would blast past the surface,\\u2019 explained Stevens . If the Earth\\u2019s rotation slowed to one every 365 days, a condition called 'sun synchronous', every spot in the Earth would have permanent daytime or night-time all year long. This is similar to the situation on the moon where for two weeks the front-side is illuminated by the sun, and for two weeks the back side is illuminated. If it stopped spinning completely, the world would have half a year daylight, and half a year night time. \\u2018The yearly change in the sun's position in the sky would now be just its seasonal motion up and down the sky towards the south due to the orbit of the Earth and its axial tilt,\\u2019 Nasa said. \\u2018As you moved along constant lines of Earth latitude, you would see the elevation of the sun increase or decrease in the sky just as we now see the elevation of the sun change from a single point on the Earth due to the Earth's daily rotation.\\u2019 But while this may sound horrific, according to Nasa, the probability for such an event is \\u2018practically zero\\u2019 in the next few billion years. Earth\\u2019s magnetic field would cease to exist and we would be dosed with deadly amounts of ionising radiation .\",\n          \"Myles Gibson caught the 51lb (23kg) fish at Tatton Park Mere in Cheshire before putting it back into the water.\\nBut a court heard he had no licence to fish at the National Trust site and was caught after a photograph was published in the Angling Times.\\nGibson was found guilty of illegal fishing and fined \\u00c2\\u00a3240.\\nThe angler,  from Middlewich, Cheshire, was also ordered to pay \\u00c2\\u00a3620 in court costs after a trial at Macclesfield Magistrates Court.\\nThe 30-year-old fish, named Jim's Carp, was referred to as \\\"the big one\\\" during the hearing and was caught on private land, which is also a site of special scientific interest.\\nFishing is allowed in the mere only at certain times and only after the purchase of a \\u00c2\\u00a36 licence, the court heard.\\nGibson went to the area in the early hours and climbed over farmers' fences before negotiating a large hedge to reach the water.\\nConcerns were raised after an officer from the Environment Agency spotted the photograph and contacted rangers at Tatton Park.\\nA police campaign targeting illegal fishing at the park was already under way, and Gibson was charged after attending a police interview voluntarily.\",\n          \"By . Wills Robinson . PUBLISHED: . 03:33 EST, 11 September 2013 . | . UPDATED: . 07:31 EST, 12 September 2013 . The mother of a British woman shot dead . on holiday in Turkey has denied claims her daughter was . having an affair with the man accused of shooting her. Cecilia Bury, 87, shook her head and said she was not aware Anne, 56, was having an affair with gardener Veli Acar. The accusations emerged in the aftermath of the barbaric shooting with locals suggesting he had . flown into a jealous rage after seeing Anne with another man. Scroll down for video . Affairs: Rumours that Anne Bury (left) and accused gunman Veli Acar (right) were in a relationship have been denied by their relatives who say it is 'completely untrue' Cornered: The bathroom where Catherine Anne Bury, 56, was allegedly shot by Turkish gardener Veli Acar . Scene: A blood stain on the floor of the villa in Turkey where members of the Bury family were shot . Speaking from the Tiryaki Boutique Hotel in Fethiye her brothers said: 'It is completely untrue.' Cecilia, who was also shot in Monday's savage attack, shook her head, frowned and added: 'No that's not true.' She was released from hospital on Tuesday was recuperating from her injuries at the boutique hotel, while her two sons made arrangements to repatriate their sister's body to the UK. In a statement today, Miss Bury's family said they 'cannot comprehend the mentality' of the gunman who killed her and injured her mother Cecilia and son Alex. The gardener, known only as VA, 46, is lead away by Turkish jandarma . They said: 'We would like to thank everyone for their warm wishes and condolences at this very sad time. 'Although our family are still deeply shocked and grieving for Anne, we are pleased to say that both Anne's mother and son are recovering from their injuries and have both been given wonderful care, treatment and support by hospital and consulate staff and many other local people. 'It appears that the person that Anne employed as a general gardener/handyman, to look after her holiday villas, has committed this terrible crime. 'We cannot comprehend the mentality of somebody who would do this to three lovely people who would never harm anybody. 'We would like once again to thank everyone for their kindness and offers of help - they are a great source of strength to us. 'We are sure that you will understand that we would now like peace and privacy at this time so that we can get on with everything we need to do.' Earlier today, Anne's son Alex Bury, 24,\\u00a0 said he tried to reason with alleged attacker, Veli Acar, before he opened fire on Miss Bury, 56. Speaking from his bed in Mugla University Hospital, Mr Bury, 24, said he recognised the gunman as Acar, their gardener, who was said to have been in a relationship with Miss Bury. He claimed Acar had threatened the family earlier that weekend but was later released by police and returned, armed, to the Bury villa in the resort of Dalyan at around 5am on Monday. Mr Bury, who was being treated for a leg injury, told The Times : 'I tried to reason with him. 'I told him it didn't have to be this way. Gun attack: Alex Bury, 24, is rushed to hospital after he was shot in the leg. He spoke from his in Mugla University Hospital . The suspect, named locally as Velli Acar, is taken into custody by the security forces today . The luxury villa where three members of a British family were shot . 'He lifted the gun to his shoulder and gestured for me to go through to my mother and grandmother's room. 'They had heard me talking and had locked themselves in the room.' Miss Bury reportedly ran up three flights of stairs and bolted herself into the bathroom. But Mr Acar shot off the lock before shooting her four times as she cowed on the floor. Acar then gunned her down as she cowered in on the floor, it was reported. The . Turkish ministry of culture and tourism confirmed the death of Ms Bury, . who lived in the North Yorkshire village of Swainby, and said her son, . Alex, remained in hospital . Miss Bury's mother Cecilia, 87, was discharged after treatment. Acar is said to have given himself up after the shooting and is due in court. Anne . Bury was celebrating her 56th birthday when she was killed, while son . Alex and mother Cecilia, 87, were taken to hospital with serious . injuries. Their attacker had been arrested less than 48 hours before for apparently making death threats against the family. Bunting: Decorations from the party members of the Bury family were holding at the time of the shooting remain in the trees surrounding the swimming . But . he was released, and shortly afterwards arrived at the luxury villa in . the picturesque coastal resort of Dalyan armed with a pump-action . shotgun. The shootings happened in the early hours of Monday, after a party to mark Miss Bury\\u2019s birthday. The . 46-year-old gunman, named by locals as Turkish gardener and handyman . Velli Acar, appears to have targeted the family in some kind of revenge . attack. He blasted Mrs Bury . in the back and shot her grandson in the leg. Miss Bury fled in\\u00a0 terror . up three flights of stairs and bolted herself in her bathroom. But Acar . blasted the lock and reportedly shot her four times at point-blank range . as she cowered on the tiled floor. She died at the scene. Her son and widowed mother were taken by ambulance to separate hospitals. Mrs . Bury was later discharged and Alex was said to be in a \\u2018stable\\u2019 condition after undergoing successful surgery to repair a damaged artery . in his leg. Locals . in Dalyan claimed that Miss Bury may have been in a relationship with . Acar and the killing was probably a crime of passion. Neighbour Ozman Tugcu said: \\u2018I\\u2019d seen . them out together occasionally and thought they were a couple. But they . were both quiet and kept themselves to themselves.\\u2019 But . another neighbour said the row was over money, and Acar had been . accused of pocketing cash intended for other tradesmen for work at the . villa. Police have refused to comment on the motive for the shooting. Mr . Tugcu described the British family as \\u2018quiet and respectable people\\u2019. He said he was alerted to the shooting by the arrival of police. Alex Bury planned to become a doctor, according the family's neighbours in north Allerton . \\u2018I . was horrified to see the elderly lady brought out of the house,\\u2019 he . said. \\u2018She was covered in blood. I was sure she was dead and am . astonished she survived. It\\u2019s a really dreadful thing to happen.\\u2019 The gunman later gave himself up to police and was remanded in\\u00a0 custody yesterday ahead of a formal court appearance. Miss Bury and her family had been going to stay in their villa in the tiny fishing village for six years. Acar, . described as a heavy drinker, had been reported to police over alleged . death threats and was arrested on Saturday. He was held overnight for . questioning and released the following day. Locals said the suspect also owned a boat and ran trips for tourists in the resort. One . resident said he would regularly drink a bottle of a strong local wine. \\u2018Veli was a quiet man but we think he had an alcohol problem,\\u2019 he . said. The Bury family had\\u00a0 decorated their villa with bunting and . balloons for the birthday party by the pool on Sunday. Yesterday blood smears could be seen on the marble floors beneath the decorations. Friends and neighbours at home in Britain paid tribute to the dead woman and expressed their shock. Miss Bury, a former nurse from North Yorkshire, worked as a risk manager for a Saudi-based medical services company. Neighbour Stephen Garbut said the family are 'the nicest people you could ever wish to meet'. Pictured is the Bury family's UK home in Northallerton, North Yorkshire . She had a masters degree in law and a degree in midwifery. Mr Bury, her only child, had graduated from university and was working in medical research while planning to train as a doctor. Miss . Bury lived in a bungalow in Swainby, North Yorkshire, but spent . prolonged periods abroad working in Saudi Arabia and visiting her . holiday home in Turkey. Neighbour Steve Garbutt, 72, said: \\u2018They were a . lovely family and this has come as a terrible shock. \\u2018You . just don\\u2019t expect anything like this to happen. [She] was an excellent . neighbour and was always friendly when you spoke to her. Officers cordon off the scene. Birthday decorations can be seen adorning the porch . Neighbours said the suspect, Velli Acar, was a quiet man who used to run boat trips for tourists . Investigation: A jandarma officer takes pictures at the villa . \\u2018I . never ever heard a bad word, or a cross word or anything like that from . any of them. How on earth they got into this situation I cannot . imagine.\\u2019 Local resident . Irene Cousans, 60, added: \\u2018They never caused any\\u00a0 trouble and were . always very friendly. I think everyone in the\\u00a0 village is in shock. I . don\\u2019t understand how this has happened. \\u2018Anne\\u2019s mum used to visit a lot too and she was just as lovely as her daughter and grandson.\\u2019 A Foreign Office spokesman\\u00a0 said: \\u2018We are providing consular assistance to the family at this\\u00a0 difficult time.\\u2019 Mugla University Hospital, where Alex is being treated for a shotgun wound to the leg .\"\n        ],\n        \"semantic_type\": \"\",\n        \"description\": \"\"\n      }\n    },\n    {\n      \"column\": \"Summary\",\n      \"properties\": {\n        \"dtype\": \"string\",\n        \"num_unique_values\": 20,\n        \"samples\": [\n          \"Michael Stevens outlines the devastating scenarios in his latest video .\\nHe claims everything would be launched in a ballistic trajectory sideways .\\nThere would be powerful winds as fast as those felt near atomic explosions .\\nEarth\\u2019s magnetic field would disappear exposing planet to deadly radiation .\\nIf it stopped turning, the planet would become an almost perfect sphere .\\nThe world\\u2019s oceans would redistribute, flooding many areas of the planet .\\nProbability for this happening is \\u2018practically zero\\u2019 in next few billion years .\",\n          \"A professional angler once dubbed \\\"The Rodfather\\\" has been fined after illegally catching a prize carp from a protected lake.\",\n          \"Cecilia Bury, 87, said rumours Anne, 56, was in a relationship with the alleged gunman are not true .\\nAccusations emerged in the aftermath of the barbaric shooting .\\nLocals said the Turkish gardener had .\\nflown into a jealous rage after seeing Anne with another man .\\nVeli Acar, 46, is accused of the shootings and is due to appear in court in Turkey .\\nFirst images from inside the house emerge, including bathroom where Miss Bury died .\"\n        ],\n        \"semantic_type\": \"\",\n        \"description\": \"\"\n      }\n    },\n    {\n      \"column\": \"Dataset\",\n      \"properties\": {\n        \"dtype\": \"category\",\n        \"num_unique_values\": 2,\n        \"samples\": [\n          \"XSum\",\n          \"CNN/Daily Mail\"\n        ],\n        \"semantic_type\": \"\",\n        \"description\": \"\"\n      }\n    }\n  ]\n}"
            }
          },
          "metadata": {},
          "execution_count": 3
        }
      ],
      "source": [
        "import pandas as pd\n",
        "\n",
        "news_df = pd.read_csv('/content/drive/MyDrive/oreilly_news_articles/news_articles.csv')\n",
        "\n",
        "news_df.sample(20)"
      ]
    },
    {
      "cell_type": "code",
      "source": [
        "news_df.shape"
      ],
      "metadata": {
        "colab": {
          "base_uri": "https://localhost:8080/"
        },
        "id": "XdpsHVKWeJF1",
        "outputId": "cfffa7e1-81c4-43e8-95d2-a115a69b121f"
      },
      "id": "XdpsHVKWeJF1",
      "execution_count": 5,
      "outputs": [
        {
          "output_type": "execute_result",
          "data": {
            "text/plain": [
              "(5000, 3)"
            ]
          },
          "metadata": {},
          "execution_count": 5
        }
      ]
    },
    {
      "cell_type": "markdown",
      "source": [
        "Null value check"
      ],
      "metadata": {
        "id": "J57L5PDYJi_y"
      },
      "id": "J57L5PDYJi_y"
    },
    {
      "cell_type": "code",
      "execution_count": 6,
      "id": "9e15f966",
      "metadata": {
        "colab": {
          "base_uri": "https://localhost:8080/",
          "height": 178
        },
        "id": "9e15f966",
        "outputId": "2e55800e-aaea-4167-9ee7-5d78ab100caf"
      },
      "outputs": [
        {
          "output_type": "execute_result",
          "data": {
            "text/plain": [
              "Content    0\n",
              "Summary    0\n",
              "Dataset    0\n",
              "dtype: int64"
            ],
            "text/html": [
              "<div>\n",
              "<style scoped>\n",
              "    .dataframe tbody tr th:only-of-type {\n",
              "        vertical-align: middle;\n",
              "    }\n",
              "\n",
              "    .dataframe tbody tr th {\n",
              "        vertical-align: top;\n",
              "    }\n",
              "\n",
              "    .dataframe thead th {\n",
              "        text-align: right;\n",
              "    }\n",
              "</style>\n",
              "<table border=\"1\" class=\"dataframe\">\n",
              "  <thead>\n",
              "    <tr style=\"text-align: right;\">\n",
              "      <th></th>\n",
              "      <th>0</th>\n",
              "    </tr>\n",
              "  </thead>\n",
              "  <tbody>\n",
              "    <tr>\n",
              "      <th>Content</th>\n",
              "      <td>0</td>\n",
              "    </tr>\n",
              "    <tr>\n",
              "      <th>Summary</th>\n",
              "      <td>0</td>\n",
              "    </tr>\n",
              "    <tr>\n",
              "      <th>Dataset</th>\n",
              "      <td>0</td>\n",
              "    </tr>\n",
              "  </tbody>\n",
              "</table>\n",
              "</div><br><label><b>dtype:</b> int64</label>"
            ]
          },
          "metadata": {},
          "execution_count": 6
        }
      ],
      "source": [
        "news_df.isnull().sum()"
      ]
    },
    {
      "cell_type": "code",
      "execution_count": 4,
      "id": "50107328",
      "metadata": {
        "id": "50107328"
      },
      "outputs": [],
      "source": [
        "import re\n",
        "\n",
        "def clean_txt(txt):\n",
        "    txt = txt.lower()\n",
        "\n",
        "    # Remove backslashes, @ symbols\n",
        "    txt = txt.replace(\"\\\\\", \" \")\n",
        "    txt = txt.replace(\"@\", \" \")\n",
        "\n",
        "    # Replace non-breaking space (used to help not split words if text is wrapped)\n",
        "    txt = txt.replace(\"\\xa0\", \" \")\n",
        "\n",
        "    txt = txt.replace(\"/\", \" \")\n",
        "    txt = txt.replace(\"\\n\", \" \")\n",
        "    txt = txt.replace(\"'s\", \" \")\n",
        "    txt = txt.replace('\"', ' ')\n",
        "\n",
        "    # Remove extra whitespace\n",
        "    txt = re.sub(r'\\s+', ' ', txt).strip()\n",
        "\n",
        "    return txt\n"
      ]
    },
    {
      "cell_type": "code",
      "execution_count": 5,
      "id": "73ce2a53",
      "metadata": {
        "colab": {
          "base_uri": "https://localhost:8080/",
          "height": 363
        },
        "id": "73ce2a53",
        "outputId": "f330910e-66bb-4b58-bea0-4c47c0aa39db"
      },
      "outputs": [
        {
          "output_type": "execute_result",
          "data": {
            "text/plain": [
              "                                                Content  \\\n",
              "3324  saido berahino has insisted strike partner bro...   \n",
              "3529  the 28-year-old will sign his contract on tues...   \n",
              "3623  by . damien gayle and daily mail reporter . pu...   \n",
              "852   the body of india chipchase, 20, a bar worker,...   \n",
              "1217  champion trainer paul nicholls has said he acc...   \n",
              "1784  the ecuadorian international, 25, limped off d...   \n",
              "3588  a church has had its application to retune its...   \n",
              "4140  rhys murphy second-half double confirmed victo...   \n",
              "2080  scotland richie ramsay made a flying start to ...   \n",
              "2380  the clip, said to have been filmed in the city...   \n",
              "\n",
              "                                                Summary         Dataset  \n",
              "3324  brown ideye joined west brom in £10million mov...  CNN/Daily Mail  \n",
              "3529  ian cathro will be confirmed as steve mcclaren...            XSum  \n",
              "3623  new york yankees star alex rodriguez among tho...  CNN/Daily Mail  \n",
              "852   an investigation into the disappearance of a w...            XSum  \n",
              "1217  paul nicholls understands sam twiston-davies n...  CNN/Daily Mail  \n",
              "1784  swansea city winger jefferson montero has been...            XSum  \n",
              "3588  church barred from re-tuning its bells so thei...  CNN/Daily Mail  \n",
              "4140  forest green secured a fourth successive natio...            XSum  \n",
              "2080  dp world tour championship is taking place thi...  CNN/Daily Mail  \n",
              "2380  a video has appeared online apparently showing...            XSum  "
            ],
            "text/html": [
              "\n",
              "  <div id=\"df-40391493-2089-438a-8937-2e9568d24c12\" class=\"colab-df-container\">\n",
              "    <div>\n",
              "<style scoped>\n",
              "    .dataframe tbody tr th:only-of-type {\n",
              "        vertical-align: middle;\n",
              "    }\n",
              "\n",
              "    .dataframe tbody tr th {\n",
              "        vertical-align: top;\n",
              "    }\n",
              "\n",
              "    .dataframe thead th {\n",
              "        text-align: right;\n",
              "    }\n",
              "</style>\n",
              "<table border=\"1\" class=\"dataframe\">\n",
              "  <thead>\n",
              "    <tr style=\"text-align: right;\">\n",
              "      <th></th>\n",
              "      <th>Content</th>\n",
              "      <th>Summary</th>\n",
              "      <th>Dataset</th>\n",
              "    </tr>\n",
              "  </thead>\n",
              "  <tbody>\n",
              "    <tr>\n",
              "      <th>3324</th>\n",
              "      <td>saido berahino has insisted strike partner bro...</td>\n",
              "      <td>brown ideye joined west brom in £10million mov...</td>\n",
              "      <td>CNN/Daily Mail</td>\n",
              "    </tr>\n",
              "    <tr>\n",
              "      <th>3529</th>\n",
              "      <td>the 28-year-old will sign his contract on tues...</td>\n",
              "      <td>ian cathro will be confirmed as steve mcclaren...</td>\n",
              "      <td>XSum</td>\n",
              "    </tr>\n",
              "    <tr>\n",
              "      <th>3623</th>\n",
              "      <td>by . damien gayle and daily mail reporter . pu...</td>\n",
              "      <td>new york yankees star alex rodriguez among tho...</td>\n",
              "      <td>CNN/Daily Mail</td>\n",
              "    </tr>\n",
              "    <tr>\n",
              "      <th>852</th>\n",
              "      <td>the body of india chipchase, 20, a bar worker,...</td>\n",
              "      <td>an investigation into the disappearance of a w...</td>\n",
              "      <td>XSum</td>\n",
              "    </tr>\n",
              "    <tr>\n",
              "      <th>1217</th>\n",
              "      <td>champion trainer paul nicholls has said he acc...</td>\n",
              "      <td>paul nicholls understands sam twiston-davies n...</td>\n",
              "      <td>CNN/Daily Mail</td>\n",
              "    </tr>\n",
              "    <tr>\n",
              "      <th>1784</th>\n",
              "      <td>the ecuadorian international, 25, limped off d...</td>\n",
              "      <td>swansea city winger jefferson montero has been...</td>\n",
              "      <td>XSum</td>\n",
              "    </tr>\n",
              "    <tr>\n",
              "      <th>3588</th>\n",
              "      <td>a church has had its application to retune its...</td>\n",
              "      <td>church barred from re-tuning its bells so thei...</td>\n",
              "      <td>CNN/Daily Mail</td>\n",
              "    </tr>\n",
              "    <tr>\n",
              "      <th>4140</th>\n",
              "      <td>rhys murphy second-half double confirmed victo...</td>\n",
              "      <td>forest green secured a fourth successive natio...</td>\n",
              "      <td>XSum</td>\n",
              "    </tr>\n",
              "    <tr>\n",
              "      <th>2080</th>\n",
              "      <td>scotland richie ramsay made a flying start to ...</td>\n",
              "      <td>dp world tour championship is taking place thi...</td>\n",
              "      <td>CNN/Daily Mail</td>\n",
              "    </tr>\n",
              "    <tr>\n",
              "      <th>2380</th>\n",
              "      <td>the clip, said to have been filmed in the city...</td>\n",
              "      <td>a video has appeared online apparently showing...</td>\n",
              "      <td>XSum</td>\n",
              "    </tr>\n",
              "  </tbody>\n",
              "</table>\n",
              "</div>\n",
              "    <div class=\"colab-df-buttons\">\n",
              "\n",
              "  <div class=\"colab-df-container\">\n",
              "    <button class=\"colab-df-convert\" onclick=\"convertToInteractive('df-40391493-2089-438a-8937-2e9568d24c12')\"\n",
              "            title=\"Convert this dataframe to an interactive table.\"\n",
              "            style=\"display:none;\">\n",
              "\n",
              "  <svg xmlns=\"http://www.w3.org/2000/svg\" height=\"24px\" viewBox=\"0 -960 960 960\">\n",
              "    <path d=\"M120-120v-720h720v720H120Zm60-500h600v-160H180v160Zm220 220h160v-160H400v160Zm0 220h160v-160H400v160ZM180-400h160v-160H180v160Zm440 0h160v-160H620v160ZM180-180h160v-160H180v160Zm440 0h160v-160H620v160Z\"/>\n",
              "  </svg>\n",
              "    </button>\n",
              "\n",
              "  <style>\n",
              "    .colab-df-container {\n",
              "      display:flex;\n",
              "      gap: 12px;\n",
              "    }\n",
              "\n",
              "    .colab-df-convert {\n",
              "      background-color: #E8F0FE;\n",
              "      border: none;\n",
              "      border-radius: 50%;\n",
              "      cursor: pointer;\n",
              "      display: none;\n",
              "      fill: #1967D2;\n",
              "      height: 32px;\n",
              "      padding: 0 0 0 0;\n",
              "      width: 32px;\n",
              "    }\n",
              "\n",
              "    .colab-df-convert:hover {\n",
              "      background-color: #E2EBFA;\n",
              "      box-shadow: 0px 1px 2px rgba(60, 64, 67, 0.3), 0px 1px 3px 1px rgba(60, 64, 67, 0.15);\n",
              "      fill: #174EA6;\n",
              "    }\n",
              "\n",
              "    .colab-df-buttons div {\n",
              "      margin-bottom: 4px;\n",
              "    }\n",
              "\n",
              "    [theme=dark] .colab-df-convert {\n",
              "      background-color: #3B4455;\n",
              "      fill: #D2E3FC;\n",
              "    }\n",
              "\n",
              "    [theme=dark] .colab-df-convert:hover {\n",
              "      background-color: #434B5C;\n",
              "      box-shadow: 0px 1px 3px 1px rgba(0, 0, 0, 0.15);\n",
              "      filter: drop-shadow(0px 1px 2px rgba(0, 0, 0, 0.3));\n",
              "      fill: #FFFFFF;\n",
              "    }\n",
              "  </style>\n",
              "\n",
              "    <script>\n",
              "      const buttonEl =\n",
              "        document.querySelector('#df-40391493-2089-438a-8937-2e9568d24c12 button.colab-df-convert');\n",
              "      buttonEl.style.display =\n",
              "        google.colab.kernel.accessAllowed ? 'block' : 'none';\n",
              "\n",
              "      async function convertToInteractive(key) {\n",
              "        const element = document.querySelector('#df-40391493-2089-438a-8937-2e9568d24c12');\n",
              "        const dataTable =\n",
              "          await google.colab.kernel.invokeFunction('convertToInteractive',\n",
              "                                                    [key], {});\n",
              "        if (!dataTable) return;\n",
              "\n",
              "        const docLinkHtml = 'Like what you see? Visit the ' +\n",
              "          '<a target=\"_blank\" href=https://colab.research.google.com/notebooks/data_table.ipynb>data table notebook</a>'\n",
              "          + ' to learn more about interactive tables.';\n",
              "        element.innerHTML = '';\n",
              "        dataTable['output_type'] = 'display_data';\n",
              "        await google.colab.output.renderOutput(dataTable, element);\n",
              "        const docLink = document.createElement('div');\n",
              "        docLink.innerHTML = docLinkHtml;\n",
              "        element.appendChild(docLink);\n",
              "      }\n",
              "    </script>\n",
              "  </div>\n",
              "\n",
              "\n",
              "<div id=\"df-a0239a1b-7b8f-4410-9318-f46653f3c6f4\">\n",
              "  <button class=\"colab-df-quickchart\" onclick=\"quickchart('df-a0239a1b-7b8f-4410-9318-f46653f3c6f4')\"\n",
              "            title=\"Suggest charts\"\n",
              "            style=\"display:none;\">\n",
              "\n",
              "<svg xmlns=\"http://www.w3.org/2000/svg\" height=\"24px\"viewBox=\"0 0 24 24\"\n",
              "     width=\"24px\">\n",
              "    <g>\n",
              "        <path d=\"M19 3H5c-1.1 0-2 .9-2 2v14c0 1.1.9 2 2 2h14c1.1 0 2-.9 2-2V5c0-1.1-.9-2-2-2zM9 17H7v-7h2v7zm4 0h-2V7h2v10zm4 0h-2v-4h2v4z\"/>\n",
              "    </g>\n",
              "</svg>\n",
              "  </button>\n",
              "\n",
              "<style>\n",
              "  .colab-df-quickchart {\n",
              "      --bg-color: #E8F0FE;\n",
              "      --fill-color: #1967D2;\n",
              "      --hover-bg-color: #E2EBFA;\n",
              "      --hover-fill-color: #174EA6;\n",
              "      --disabled-fill-color: #AAA;\n",
              "      --disabled-bg-color: #DDD;\n",
              "  }\n",
              "\n",
              "  [theme=dark] .colab-df-quickchart {\n",
              "      --bg-color: #3B4455;\n",
              "      --fill-color: #D2E3FC;\n",
              "      --hover-bg-color: #434B5C;\n",
              "      --hover-fill-color: #FFFFFF;\n",
              "      --disabled-bg-color: #3B4455;\n",
              "      --disabled-fill-color: #666;\n",
              "  }\n",
              "\n",
              "  .colab-df-quickchart {\n",
              "    background-color: var(--bg-color);\n",
              "    border: none;\n",
              "    border-radius: 50%;\n",
              "    cursor: pointer;\n",
              "    display: none;\n",
              "    fill: var(--fill-color);\n",
              "    height: 32px;\n",
              "    padding: 0;\n",
              "    width: 32px;\n",
              "  }\n",
              "\n",
              "  .colab-df-quickchart:hover {\n",
              "    background-color: var(--hover-bg-color);\n",
              "    box-shadow: 0 1px 2px rgba(60, 64, 67, 0.3), 0 1px 3px 1px rgba(60, 64, 67, 0.15);\n",
              "    fill: var(--button-hover-fill-color);\n",
              "  }\n",
              "\n",
              "  .colab-df-quickchart-complete:disabled,\n",
              "  .colab-df-quickchart-complete:disabled:hover {\n",
              "    background-color: var(--disabled-bg-color);\n",
              "    fill: var(--disabled-fill-color);\n",
              "    box-shadow: none;\n",
              "  }\n",
              "\n",
              "  .colab-df-spinner {\n",
              "    border: 2px solid var(--fill-color);\n",
              "    border-color: transparent;\n",
              "    border-bottom-color: var(--fill-color);\n",
              "    animation:\n",
              "      spin 1s steps(1) infinite;\n",
              "  }\n",
              "\n",
              "  @keyframes spin {\n",
              "    0% {\n",
              "      border-color: transparent;\n",
              "      border-bottom-color: var(--fill-color);\n",
              "      border-left-color: var(--fill-color);\n",
              "    }\n",
              "    20% {\n",
              "      border-color: transparent;\n",
              "      border-left-color: var(--fill-color);\n",
              "      border-top-color: var(--fill-color);\n",
              "    }\n",
              "    30% {\n",
              "      border-color: transparent;\n",
              "      border-left-color: var(--fill-color);\n",
              "      border-top-color: var(--fill-color);\n",
              "      border-right-color: var(--fill-color);\n",
              "    }\n",
              "    40% {\n",
              "      border-color: transparent;\n",
              "      border-right-color: var(--fill-color);\n",
              "      border-top-color: var(--fill-color);\n",
              "    }\n",
              "    60% {\n",
              "      border-color: transparent;\n",
              "      border-right-color: var(--fill-color);\n",
              "    }\n",
              "    80% {\n",
              "      border-color: transparent;\n",
              "      border-right-color: var(--fill-color);\n",
              "      border-bottom-color: var(--fill-color);\n",
              "    }\n",
              "    90% {\n",
              "      border-color: transparent;\n",
              "      border-bottom-color: var(--fill-color);\n",
              "    }\n",
              "  }\n",
              "</style>\n",
              "\n",
              "  <script>\n",
              "    async function quickchart(key) {\n",
              "      const quickchartButtonEl =\n",
              "        document.querySelector('#' + key + ' button');\n",
              "      quickchartButtonEl.disabled = true;  // To prevent multiple clicks.\n",
              "      quickchartButtonEl.classList.add('colab-df-spinner');\n",
              "      try {\n",
              "        const charts = await google.colab.kernel.invokeFunction(\n",
              "            'suggestCharts', [key], {});\n",
              "      } catch (error) {\n",
              "        console.error('Error during call to suggestCharts:', error);\n",
              "      }\n",
              "      quickchartButtonEl.classList.remove('colab-df-spinner');\n",
              "      quickchartButtonEl.classList.add('colab-df-quickchart-complete');\n",
              "    }\n",
              "    (() => {\n",
              "      let quickchartButtonEl =\n",
              "        document.querySelector('#df-a0239a1b-7b8f-4410-9318-f46653f3c6f4 button');\n",
              "      quickchartButtonEl.style.display =\n",
              "        google.colab.kernel.accessAllowed ? 'block' : 'none';\n",
              "    })();\n",
              "  </script>\n",
              "</div>\n",
              "\n",
              "    </div>\n",
              "  </div>\n"
            ],
            "application/vnd.google.colaboratory.intrinsic+json": {
              "type": "dataframe",
              "summary": "{\n  \"name\": \"cleaned_df\",\n  \"rows\": 10,\n  \"fields\": [\n    {\n      \"column\": \"Content\",\n      \"properties\": {\n        \"dtype\": \"string\",\n        \"num_unique_values\": 10,\n        \"samples\": [\n          \"scotland richie ramsay made a flying start to set the early pace in the first round of the dp world tour championship in dubai on thursday. ramsay took advantage of ideal conditions to birdie the first three holes on the earth course at jumeirah golf estates, moving to three under par and into a one-shot lead over south african thomas aiken and england tyrrell hatton. english trio ross fisher, david howell and oliver wilson were a shot further back, with wilson recovering from a bogey at the first with birdies from eight and three feet at the third and fifth respectively. video scroll down to watch dp world tour championship day 1 highlights . scotland richie ramsay leads the dp world tour championship after carding an opening round of 67 . ramsay birdied the opening three holes in dubai to give him the perfect start . with the players going out in reverse order according to their positions on the race to dubai, world number one rory mcilroy and defending champion henrik stenson were in the final group at 12.30 local time. mcilroy has not played since finishing second to wilson in the alfred dunhill links championship in the first week of october, the 25-year-old withdrawing from scheduled appearances in the first two final series events in china to prepare for his upcoming court case with a former management company. so it was perhaps no surprise that the four-time major winner had posted on twitter: 'just under 3 hours until i hit my first competitive golf shot in 6 weeks. to say i'm excited is an understatement. #imready.' mcilroy wrapped up the race to dubai title for the second time in three years with a week to spare thanks to his four wins this season, including major titles in the open at royal liverpool and us pga championship at valhalla. rory mcilroy teed off in the final group which included defending champion henrik stenson .\",\n          \"the 28-year-old will sign his contract on tuesday and will be in place as pre-season training starts on wednesday. the scot left valencia in may but said leaving champions league football for a club who narrowly avoided premier league relegation is a positive move. it a forward step to a different type of football. not stronger or weaker, different, he told bbc sport. cathro decided in february to vacate his role at valencia - a position that seems likely to be filled by former manchester united assistant phil neville - partly because he was keen to be closer to his family in dundee, but also because he was eager to become a manager in his own right. indeed, he was only dissuaded from doing so a year previously when head coach nuno espirito santo asked his assistant to join him in making the move from portuguese top flight side rio ave to valencia. but cathro, who held talks with rangers before the appointment of mark warburton as the ibrox club manager, refused to entertain suggestions that accepting a role on the newcastle staff was at odds with his stated ambitions. i wanted a fresh challenge and didn't want to just sit it out over there and wait for the right manager job to come up, he said. to come into british football as a manager with no experience of working with english-speaking players is perhaps not advisable anyway so this makes perfect sense. ill-feeling and despair enveloped st james' park last season, with fans angered by an apparent lack of interest and ambition on the part of owner mike ashley. however, ashley assurances over his commitment, promise of more investment and the appointment of mcclaren have lifted spirits and convinced cathro of the club potential. steve coming in has brought a freshness and enthusiasm to get the club back to where it should be and serve the love that exists for it, cathro added. i'm convinced that it a club willing to grow and would be comfortable higher in the league. it now ready to do that. a parallel could be drawn with the valencia that cathro discovered upon his arrival. the club were in flux off the pitch and floundering on it, having failed to qualify for european football the previous season. by the time he left 12 months later, the mestalla outfit were in the champions league qualifying round. it is a lot to leave behind, but cathro has no regrets. i'm completely comfortable with it, he said. i'm going to watch valencia in the champions league and in la liga and enjoy them playing in wonderful games in great stadiums. but i've no fear of missing out because the intention is to go to that level again. if that was with newcastle, that would be perfect, but if not i'll certainly be back working abroad in the next five to 10 years. such confidence was partly what attracted rangers to cathro during their search for a new manager. it had been suggested that his decision to leave spain was informed by that interest but the former dundee united youth coach is adamant that the initial contact and two informal meetings with ibrox directors paul murray and john gilligan only came after he had decided to return to scotland. i was interested in the uniqueness of the challenge, he said. and it would be foolish not to talk to them, but it may not have been the correct conditions for me to begin as a manager and perhaps they adopted a similar view. it was a positive experience and i'd wish them well because they demonstrated that they were keen to really look at what caused the issues on the football side in the past and build something different.\",\n          \"the ecuadorian international, 25, limped off during the swans' 1-0 victory over aston villa on boxing day. montero left the field in tears and is set to miss at least four league games, including monday trip to liverpool. it not as bad as we thought it would be, which is good news, said manager garry monk. jefferson all season has been very good for us so he will be a miss, but it a chance for other people. montero departed the field after 21 minutes against villa, after winning the free-kick which gylfi sigurdsson scored from. it was swansea second successive league win, following on from a 1-0 win at hull city, to leave monk side in eighth place in the premier league ahead of the trip to anfield.\"\n        ],\n        \"semantic_type\": \"\",\n        \"description\": \"\"\n      }\n    },\n    {\n      \"column\": \"Summary\",\n      \"properties\": {\n        \"dtype\": \"string\",\n        \"num_unique_values\": 10,\n        \"samples\": [\n          \"dp world tour championship is taking place this week in dubai . rory mcilroy teed off in the final group with henrik stenson . mcilroy has won the race to dubai title for second time in three years .\",\n          \"ian cathro will be confirmed as steve mcclaren assistant at newcastle within the next 48 hours.\",\n          \"swansea city winger jefferson montero has been ruled out for around a month with a hamstring strain.\"\n        ],\n        \"semantic_type\": \"\",\n        \"description\": \"\"\n      }\n    },\n    {\n      \"column\": \"Dataset\",\n      \"properties\": {\n        \"dtype\": \"category\",\n        \"num_unique_values\": 2,\n        \"samples\": [\n          \"XSum\",\n          \"CNN/Daily Mail\"\n        ],\n        \"semantic_type\": \"\",\n        \"description\": \"\"\n      }\n    }\n  ]\n}"
            }
          },
          "metadata": {},
          "execution_count": 5
        }
      ],
      "source": [
        "cleaned_df = news_df.copy()\n",
        "\n",
        "cleaned_df['Content'] = cleaned_df['Content'].map(clean_txt)\n",
        "cleaned_df['Summary'] = cleaned_df['Summary'].map(clean_txt)\n",
        "\n",
        "cleaned_df.sample(10)"
      ]
    },
    {
      "cell_type": "markdown",
      "source": [
        "Checking an instance of Content and Summary"
      ],
      "metadata": {
        "id": "lyy3r-PVep5D"
      },
      "id": "lyy3r-PVep5D"
    },
    {
      "cell_type": "code",
      "execution_count": 9,
      "id": "6efe914e",
      "metadata": {
        "colab": {
          "base_uri": "https://localhost:8080/",
          "height": 174
        },
        "id": "6efe914e",
        "outputId": "b1d3548a-7f05-4902-9249-c316c90e2957"
      },
      "outputs": [
        {
          "output_type": "execute_result",
          "data": {
            "text/plain": [
              "\"Ashton Kutcher has entered the firestorm surrounding under-fire taxi-hiring app Uber and defended controversial comments made by an executive who\\xa0suggested spending $1 million to dig up dirt on journalists who criticize the company. Kutcher, an investor in the app, took to Twitter on Wednesday to show his support for beleaguered VP Emil Michael and described Sarah Lacy, a female journalist who has been highly critical of the company, as 'shady'. 'What is so wrong about digging up dirt on shady journalist?' tweeted the celebrity tech entrepreneur who has invested in tech firms including Skype, Foursquare, Airbnb and Spotify through his\\xa0venture capital firm A-Grade. Under-fire: Ashton Kutcher has entered the firestorm surrounding taxi-hiring app Uber and defended Senior VP Emil Michael who suggested spending $1 million to dig up dirt on journalists who criticize the company . Outburst: Kutcher, an investor in the app, took to Twitter on Wednesday to attack Sarah Lacy, the journalist who has criticized the company . 'So as long as journalist are interested and willing to print half truths as facts... Yes we should question the source' he continued in a series of tweets before he sought to clarify that he was speaking for himself and not Uber. 'This should be fun... Here comes the part where journalist explain why they should be exempt from ridicule and judgement and probing...' he continued. The actor's attempt to defend Uber quickly provoked a negative reaction from many Twitter users who accused him of only getting involved because he was an investor in the company and of unfairly describing Lacy as shady for reporting facts about the service. 'A journalist harassed by a company you invested in. Nice' tweeted @tiedtiger. 'What makes her shady?' wrote @KeenPOV. 'Pointing out how some Uber drivers are sexual assailants?' Not long after Kutcher decided it might be best just to apologize. 'U r all right and I'm on the wrong side of this ultimately. I just wish journalists were held to the same standards as public figures,' he tweeted. Target: Kutcher was speaking with specific reference to Sarah Lacy (left), editor of PandoDaily, who recently wrote about deleting her Uber app (right) after the firm teamed up with an apparent escort service in France . Kutcher's attempt to defend Uber provoked a negative reaction from many Twitter users who accused him of only getting involved because he was an investor in the company . In 2011, Kutcher was forced into an embarrassing climbdown after tweeting that the sacking of Joe Paterno as head coach of Penn State showed 'no class' and was an 'insult' to his legacy. Many people labelled Kutcher an idiot for his view and after a barrage of complaints he deleted his tweet and recanted his stance. 'This is an insane story, I just heard paterno was fired, getting the rest of the story now... Wow,' he wrote. He added: 'Heard Joe was fired, fully recant previous tweet! Didn't have full story. #admitwhenYoumakemistakes' Kutcher's Uber comment come a day after Emil Michael was forced to make a grovelling apology over his controversial comments. The senior vice president was speaking at a private dinner in Manhattan on Friday, when he said that he had dreamed up an eight-man team who would find out about writers' personal lives and families so that Uber could discredit them. The sinister scheme - which was targeted at a Silicon Valley editor who has savaged the company for its alleged 'sexism and misogyny' - drew an outraged backlash when it became public. Tweets: Kutcher made a series of tweets on Wednesday in which was critical of journalist Sarah Lacy  before seeking to clarify that he was speaking for himself and not Uber . A chorus of disapproval aimed at Michael prompted a humiliating public apology to Sarah Lacy, the editor of PandoDaily, in which he disowned the idea entirely. Michael posted an apology to Lacy's Twitter account, saying: 'I would like to apologize to you directly. My comments were wrong and I deeply regret them. 'Neither me [sic] nor my company would ever engage in such activities. Again, I apologize.' The remarks will do little to improve Uber's fragile relationship with the media following the portrayal of its management team as insensitive and aggressive toward customer complaints. And, indeed, the apology did not stop Lacy from writing a scathing opinion piece\\xa0on PandoDaily, in which she said the plan was 'like a five-year-old pretending to be Frank Underwood' - a reference to Kevin Spacey's scheming politician character in Netflix series House of Cards. According to Lacy, Michael also called her cell phone and ask to speak in private, but hung up after she refused to have an off-the-record conversation. The dinner party in question was hosted by Ian Osborne, ex-adviser to British Prime Minister David Cameron and consultant for Uber . Michael's plan came up when he was asked about the firm's negative press coverage. Venue: During the dinner party at Manhattan's Waverly Inn (pictured), Michael was reportedly asked about the firm's depictions in the press and responded that Uber should consider hiring researchers to snoop on writers . In response, the executive suggested that Uber should consider spending 'a million dollars' of its reported $15 billion worth on hiring four researchers and four journalists, according to BuzzFeed. The eight-strong hit team would investigate 'your personal lives, your families' with a view to discrediting journalists behind\\xa0unfavorable\\xa0reports on the taxi service, he said. Michael was especially focused on Lacy, who also recently accused Uber of 'sexism and misogyny' on her Silicon Valley website, writing: 'The company simply doesn’t respect us or prioritize our safety.' He reportedly expressed anger over her claims that, responding that women are far more likely to suffer assault at the hands of normal taxi drivers than Uber drivers. He said Lacy should be held 'personally responsible' for any women who copy her and delete the taxi app, and are then sexually assaulted, it is reported . Apology: Michael, who used to work at Klout and also sits on a board advising the Department of Defense, later took to Twitter to apologize for his comments to Lacy herself, saying: 'I would like to apologize to you directly' Contradicting his remarks: He added: 'Neither me nor my company would ever engage in such activities' And in reference to a specific claim about Lacy's personal life, he said Uber's dirt-diggers could work covertly to expose and discredit her to others, adding: 'Nobody would know it was us.' After being confronted about his comments, Michael, who has been at Uber for more than a year and was previously described as a 'top deal guy' by founder Travis Kalanick, later apologized. In a statement to BuzzFeed on Monday evening, he said he believed he was speaking off the record and that\\xa0his remarks did not reflect his or Uber's views. 'The remarks attributed to me at a private dinner - borne out of frustration during an informal debate over what I feel is sensationalistic media coverage of the company I am proud to work for - do not reflect my actual views and have no relation to the company’s views or approach,' he said. 'They were wrong no matter the circumstance and I regret them.' At no point during the dinner did Michael suggest the firm has already hired opposition researchers. An Uber spokesman confirmed that the company does not carry out such research and has never considered doing it because it would be a 'clear violation of our privacy and data access policies'. The event at Waverly Inn on Friday evening was attended by a number of high-profile figures, including\\xa0actor Ed Norton\\xa0and publisher Arianna Huffington. Uber consultant: The dinner was hosted by Ian Osborne (pictured), ex-adviser to British PM David Cameron . The event on Friday evening was attended by  actor Ed Norton (left) and publisher Arianna Huffington (right) Response: On Monday, Ms Lacy responded to BuzzFeed's article on her site (pictured), saying: 'Companies shouldn’t be allowed to go to illegal lengths to defame and silence reporters'\""
            ],
            "application/vnd.google.colaboratory.intrinsic+json": {
              "type": "string"
            }
          },
          "metadata": {},
          "execution_count": 9
        }
      ],
      "source": [
        "news_df['Content'][15]"
      ]
    },
    {
      "cell_type": "markdown",
      "source": [
        "\\xa0, @ are removed"
      ],
      "metadata": {
        "id": "1hxKGrnze7fk"
      },
      "id": "1hxKGrnze7fk"
    },
    {
      "cell_type": "code",
      "execution_count": 10,
      "id": "205c9fec",
      "metadata": {
        "colab": {
          "base_uri": "https://localhost:8080/",
          "height": 174
        },
        "id": "205c9fec",
        "outputId": "371c1c3b-ff2a-4b9c-879f-f54445f6d6b5"
      },
      "outputs": [
        {
          "output_type": "execute_result",
          "data": {
            "text/plain": [
              "\"ashton kutcher has entered the firestorm surrounding under-fire taxi-hiring app uber and defended controversial comments made by an executive who suggested spending $1 million to dig up dirt on journalists who criticize the company. kutcher, an investor in the app, took to twitter on wednesday to show his support for beleaguered vp emil michael and described sarah lacy, a female journalist who has been highly critical of the company, as hady'. 'what is so wrong about digging up dirt on shady journalist?' tweeted the celebrity tech entrepreneur who has invested in tech firms including skype, foursquare, airbnb and spotify through his venture capital firm a-grade. under-fire: ashton kutcher has entered the firestorm surrounding taxi-hiring app uber and defended senior vp emil michael who suggested spending $1 million to dig up dirt on journalists who criticize the company . outburst: kutcher, an investor in the app, took to twitter on wednesday to attack sarah lacy, the journalist who has criticized the company . o as long as journalist are interested and willing to print half truths as facts... yes we should question the source' he continued in a series of tweets before he sought to clarify that he was speaking for himself and not uber. 'this should be fun... here comes the part where journalist explain why they should be exempt from ridicule and judgement and probing...' he continued. the actor attempt to defend uber quickly provoked a negative reaction from many twitter users who accused him of only getting involved because he was an investor in the company and of unfairly describing lacy as shady for reporting facts about the service. 'a journalist harassed by a company you invested in. nice' tweeted tiedtiger. 'what makes her shady?' wrote keenpov. 'pointing out how some uber drivers are sexual assailants?' not long after kutcher decided it might be best just to apologize. 'u r all right and i'm on the wrong side of this ultimately. i just wish journalists were held to the same standards as public figures,' he tweeted. target: kutcher was speaking with specific reference to sarah lacy (left), editor of pandodaily, who recently wrote about deleting her uber app (right) after the firm teamed up with an apparent escort service in france . kutcher attempt to defend uber provoked a negative reaction from many twitter users who accused him of only getting involved because he was an investor in the company . in 2011, kutcher was forced into an embarrassing climbdown after tweeting that the sacking of joe paterno as head coach of penn state showed 'no class' and was an 'insult' to his legacy. many people labelled kutcher an idiot for his view and after a barrage of complaints he deleted his tweet and recanted his stance. 'this is an insane story, i just heard paterno was fired, getting the rest of the story now... wow,' he wrote. he added: 'heard joe was fired, fully recant previous tweet! didn't have full story. #admitwhenyoumakemistakes' kutcher uber comment come a day after emil michael was forced to make a grovelling apology over his controversial comments. the senior vice president was speaking at a private dinner in manhattan on friday, when he said that he had dreamed up an eight-man team who would find out about writers' personal lives and families so that uber could discredit them. the sinister scheme - which was targeted at a silicon valley editor who has savaged the company for its alleged exism and misogyny' - drew an outraged backlash when it became public. tweets: kutcher made a series of tweets on wednesday in which was critical of journalist sarah lacy before seeking to clarify that he was speaking for himself and not uber . a chorus of disapproval aimed at michael prompted a humiliating public apology to sarah lacy, the editor of pandodaily, in which he disowned the idea entirely. michael posted an apology to lacy twitter account, saying: 'i would like to apologize to you directly. my comments were wrong and i deeply regret them. 'neither me [sic] nor my company would ever engage in such activities. again, i apologize.' the remarks will do little to improve uber fragile relationship with the media following the portrayal of its management team as insensitive and aggressive toward customer complaints. and, indeed, the apology did not stop lacy from writing a scathing opinion piece on pandodaily, in which she said the plan was 'like a five-year-old pretending to be frank underwood' - a reference to kevin spacey scheming politician character in netflix series house of cards. according to lacy, michael also called her cell phone and ask to speak in private, but hung up after she refused to have an off-the-record conversation. the dinner party in question was hosted by ian osborne, ex-adviser to british prime minister david cameron and consultant for uber . michael plan came up when he was asked about the firm negative press coverage. venue: during the dinner party at manhattan waverly inn (pictured), michael was reportedly asked about the firm depictions in the press and responded that uber should consider hiring researchers to snoop on writers . in response, the executive suggested that uber should consider spending 'a million dollars' of its reported $15 billion worth on hiring four researchers and four journalists, according to buzzfeed. the eight-strong hit team would investigate 'your personal lives, your families' with a view to discrediting journalists behind unfavorable reports on the taxi service, he said. michael was especially focused on lacy, who also recently accused uber of exism and misogyny' on her silicon valley website, writing: 'the company simply doesn’t respect us or prioritize our safety.' he reportedly expressed anger over her claims that, responding that women are far more likely to suffer assault at the hands of normal taxi drivers than uber drivers. he said lacy should be held 'personally responsible' for any women who copy her and delete the taxi app, and are then sexually assaulted, it is reported . apology: michael, who used to work at klout and also sits on a board advising the department of defense, later took to twitter to apologize for his comments to lacy herself, saying: 'i would like to apologize to you directly' contradicting his remarks: he added: 'neither me nor my company would ever engage in such activities' and in reference to a specific claim about lacy personal life, he said uber dirt-diggers could work covertly to expose and discredit her to others, adding: 'nobody would know it was us.' after being confronted about his comments, michael, who has been at uber for more than a year and was previously described as a 'top deal guy' by founder travis kalanick, later apologized. in a statement to buzzfeed on monday evening, he said he believed he was speaking off the record and that his remarks did not reflect his or uber views. 'the remarks attributed to me at a private dinner - borne out of frustration during an informal debate over what i feel is sensationalistic media coverage of the company i am proud to work for - do not reflect my actual views and have no relation to the company’s views or approach,' he said. 'they were wrong no matter the circumstance and i regret them.' at no point during the dinner did michael suggest the firm has already hired opposition researchers. an uber spokesman confirmed that the company does not carry out such research and has never considered doing it because it would be a 'clear violation of our privacy and data access policies'. the event at waverly inn on friday evening was attended by a number of high-profile figures, including actor ed norton and publisher arianna huffington. uber consultant: the dinner was hosted by ian osborne (pictured), ex-adviser to british pm david cameron . the event on friday evening was attended by actor ed norton (left) and publisher arianna huffington (right) response: on monday, ms lacy responded to buzzfeed article on her site (pictured), saying: 'companies shouldn’t be allowed to go to illegal lengths to defame and silence reporters'\""
            ],
            "application/vnd.google.colaboratory.intrinsic+json": {
              "type": "string"
            }
          },
          "metadata": {},
          "execution_count": 10
        }
      ],
      "source": [
        "cleaned_df['Content'][15]"
      ]
    },
    {
      "cell_type": "code",
      "execution_count": 11,
      "id": "03d13171",
      "metadata": {
        "colab": {
          "base_uri": "https://localhost:8080/",
          "height": 140
        },
        "id": "03d13171",
        "outputId": "df58bca6-e815-4817-855c-f9cd86bc85a6"
      },
      "outputs": [
        {
          "output_type": "execute_result",
          "data": {
            "text/plain": [
              "\"Uber investor Kutcher has tweeted his support for the under-fire app and accused critic Sarah Lacy of being 'shady'\\nKutcher's comments follow the firestorm that\\xa0erupted\\xa0after senior VP Emil\\xa0Michael\\xa0suggested Uber should hire a $1 million team of researchers .\\nThey 'would dig up dirt on journalists' personal lives and their families'\\nMichael was reportedly speaking with specific reference to Lacy, an\\xa0outspoken critic of the online taxi service .\\nActor quickly apologized but was strongly criticized by Twitter users - many of whom accused him of only getting involved because he is an investor .\\nIn 2011 he was forced into an embarrassing climbdown after tweeting that the sacking of Joe Paterno as head coach of Penn State showed 'no class'\""
            ],
            "application/vnd.google.colaboratory.intrinsic+json": {
              "type": "string"
            }
          },
          "metadata": {},
          "execution_count": 11
        }
      ],
      "source": [
        "news_df['Summary'][15]"
      ]
    },
    {
      "cell_type": "markdown",
      "source": [
        "New line characters are removed"
      ],
      "metadata": {
        "id": "BlerGIJufK2D"
      },
      "id": "BlerGIJufK2D"
    },
    {
      "cell_type": "code",
      "execution_count": 12,
      "id": "c1b29135",
      "metadata": {
        "colab": {
          "base_uri": "https://localhost:8080/",
          "height": 122
        },
        "id": "c1b29135",
        "outputId": "d0535294-0f05-422b-a8fa-1670ff0f3ad0"
      },
      "outputs": [
        {
          "output_type": "execute_result",
          "data": {
            "text/plain": [
              "\"uber investor kutcher has tweeted his support for the under-fire app and accused critic sarah lacy of being hady' kutcher comments follow the firestorm that erupted after senior vp emil michael suggested uber should hire a $1 million team of researchers . they 'would dig up dirt on journalists' personal lives and their families' michael was reportedly speaking with specific reference to lacy, an outspoken critic of the online taxi service . actor quickly apologized but was strongly criticized by twitter users - many of whom accused him of only getting involved because he is an investor . in 2011 he was forced into an embarrassing climbdown after tweeting that the sacking of joe paterno as head coach of penn state showed 'no class'\""
            ],
            "application/vnd.google.colaboratory.intrinsic+json": {
              "type": "string"
            }
          },
          "metadata": {},
          "execution_count": 12
        }
      ],
      "source": [
        "cleaned_df['Summary'][15]"
      ]
    },
    {
      "cell_type": "markdown",
      "source": [
        "Go to https://huggingface.co/sshleifer/distilbart-cnn-12-6\n",
        "\n",
        "### BART (Bidirectional and Auto-Regressive Transformers)\n",
        "Overview: BART is a transformer model developed by Facebook AI that combines bidirectional and auto-regressive elements. It is designed for tasks that involve sequence generation, such as text summarization, machine translation, and text generation. BART can be thought of as a generalization of both BERT (which is bidirectional) and GPT (which is auto-regressive).\n",
        "\n",
        "Architecture: BART is essentially an encoder-decoder architecture, where the encoder is similar to BERT and the decoder is similar to GPT. The encoder takes the input text, processes it bidirectionally, and then the decoder generates the output text auto-regressively (predicting each word one at a time).\n",
        "\n",
        "### DistilBART\n",
        "\n",
        "Overview: DistilBART is a distilled version of BART. Distillation is a process where a smaller model (the \"student\") is trained to mimic the behavior of a larger model (the \"teacher\"), resulting in a model that is faster and lighter while retaining much of the performance of the original model.\n",
        "\n",
        "Efficiency: The primary goal of DistilBART is to provide a more efficient alternative to BART. It is typically smaller, faster, and requires less computational resources, making it suitable for deployment in environments with limited resources, such as mobile devices or real-time applications."
      ],
      "metadata": {
        "id": "BGbua6IdfSN9"
      },
      "id": "BGbua6IdfSN9"
    },
    {
      "cell_type": "code",
      "execution_count": 6,
      "id": "802827d8",
      "metadata": {
        "colab": {
          "base_uri": "https://localhost:8080/",
          "height": 35
        },
        "id": "802827d8",
        "outputId": "6b948248-7d92-42d8-f825-5bacef4e1be7"
      },
      "outputs": [
        {
          "output_type": "execute_result",
          "data": {
            "text/plain": [
              "'sshleifer/distilbart-cnn-12-6'"
            ],
            "application/vnd.google.colaboratory.intrinsic+json": {
              "type": "string"
            }
          },
          "metadata": {},
          "execution_count": 6
        }
      ],
      "source": [
        "model = \"sshleifer/distilbart-cnn-12-6\"\n",
        "\n",
        "model"
      ]
    },
    {
      "cell_type": "markdown",
      "source": [
        "https://huggingface.co/docs/transformers/main_classes/pipelines#transformers.SummarizationPipeline"
      ],
      "metadata": {
        "id": "p3zxfjmS8eEj"
      },
      "id": "p3zxfjmS8eEj"
    },
    {
      "cell_type": "code",
      "execution_count": 7,
      "id": "ec66cb21",
      "metadata": {
        "colab": {
          "base_uri": "https://localhost:8080/"
        },
        "id": "ec66cb21",
        "outputId": "e3efb224-ca88-4575-9ace-67cd96b0cb6e"
      },
      "outputs": [
        {
          "output_type": "stream",
          "name": "stderr",
          "text": [
            "/usr/local/lib/python3.10/dist-packages/huggingface_hub/utils/_token.py:89: UserWarning: \n",
            "The secret `HF_TOKEN` does not exist in your Colab secrets.\n",
            "To authenticate with the Hugging Face Hub, create a token in your settings tab (https://huggingface.co/settings/tokens), set it as secret in your Google Colab and restart your session.\n",
            "You will be able to reuse this secret in all of your notebooks.\n",
            "Please note that authentication is recommended but still optional to access public models or datasets.\n",
            "  warnings.warn(\n"
          ]
        },
        {
          "output_type": "execute_result",
          "data": {
            "text/plain": [
              "<transformers.pipelines.text2text_generation.SummarizationPipeline at 0x7961fc96f340>"
            ]
          },
          "metadata": {},
          "execution_count": 7
        }
      ],
      "source": [
        "summarizer = pipeline(\"summarization\", model=model, truncation=True, device=0)\n",
        "\n",
        "summarizer"
      ]
    },
    {
      "cell_type": "code",
      "execution_count": 8,
      "id": "7b82a71b",
      "metadata": {
        "colab": {
          "base_uri": "https://localhost:8080/",
          "height": 174
        },
        "id": "7b82a71b",
        "outputId": "312711fe-2798-4fb0-8091-b32ae1f2957c"
      },
      "outputs": [
        {
          "output_type": "execute_result",
          "data": {
            "text/plain": [
              "\"many people might associate roses with romance novels, but in fact the smell of chocolate tempts readers to buy loved-up fiction. researchers at antwerp university in belgium found that while a chocolatey smell makes people hungry to buy romance novels, it does not necessarily tempt people to buy grittier genres such as crime or business books. the scientists, who permeated a bookshop with the perfume of chocolate, also found that the scent encouraged customers to browse through titles. the government funded study found that bookshop visitors were almost six times more likely to buy a romance novel if they smelt chocolate - and the same results applied to cookery books too . they studied the behaviour of 201 customers in a popular chain bookshop over ten days to find that customers were 3.5 times more likely to pick up romance novels when they smelt chocolate, the guardian reported. the government funded study also found that bookshop visitors were almost six times more likely to buy a romance novel - and the same results applied to cookery books too. belgium scientists found the smell of chocolate makes people buy romance books written by novelists such as dame barbara cartland (pictured) lieve douché, who led the study told the newspaper: 'when consumers smell chocolate, concepts . associated with chocolate, such as cooking, become more readily . accessible to the consumer mind and cause consumers to react . differently when encountering a cookbook than if they had not smelled . chocolate.' the researchers concluded romance, food and drink books were strongly linked with the smell of chocolate, but other categories of literature were not, such as comic and graphic novels, travel, art, gardening, crime, law and business books. however, perhaps sue to the scent encouraging customers to browse and deviate from their usual purchasing habits, sales of the 'incongruent' books also increased, with customers 1.2 times more likely to buy any of the books on offer in the chain bookshop. previous research has found that the smell of chocolate has a positive effect on a person mood, sparking feelings of pleasure or even arousal when shopping for goods. the belgium study said: 'the presence of a chocolate scent has a . positive influence on general approach behaviour and a negative impact . on goal-directed behaviour in the store.' retail experts already exploit customers' sense of smell to influence their attention span and buying behaviour. the new research has taken it a step further by marrying a specific scent with products - even if the books themselves do not have a distinctive smell.\""
            ],
            "application/vnd.google.colaboratory.intrinsic+json": {
              "type": "string"
            }
          },
          "metadata": {},
          "execution_count": 8
        }
      ],
      "source": [
        "example_text = cleaned_df['Content'][8]\n",
        "\n",
        "example_text"
      ]
    },
    {
      "cell_type": "code",
      "execution_count": 9,
      "id": "e13a1e9c",
      "metadata": {
        "id": "e13a1e9c",
        "colab": {
          "base_uri": "https://localhost:8080/"
        },
        "outputId": "f9430ca1-b9cf-4327-d087-fc4f1147f519"
      },
      "outputs": [
        {
          "output_type": "execute_result",
          "data": {
            "text/plain": [
              "[{'summary_text': ' Researchers at antwerp university in belgium, Belgium, permeated a bookshop with the perfume of chocolate . The government funded study found that bookshop visitors were almost six times more likely to buy a romance novel if they smelt chocolate - and the same results applied to cookery books too . The researchers concluded romance, food and drink books were strongly linked with the smell of chocolate, but other categories of literature were not .'}]"
            ]
          },
          "metadata": {},
          "execution_count": 9
        }
      ],
      "source": [
        "summary_txt = summarizer(example_text)\n",
        "\n",
        "summary_txt"
      ]
    },
    {
      "cell_type": "code",
      "source": [
        "clean_txt(summary_txt[0]['summary_text'])"
      ],
      "metadata": {
        "colab": {
          "base_uri": "https://localhost:8080/",
          "height": 87
        },
        "id": "khmnSBGb684h",
        "outputId": "9579e816-d8eb-47e6-f9f6-8aa7ddd82b39"
      },
      "id": "khmnSBGb684h",
      "execution_count": 10,
      "outputs": [
        {
          "output_type": "execute_result",
          "data": {
            "text/plain": [
              "'researchers at antwerp university in belgium, belgium, permeated a bookshop with the perfume of chocolate . the government funded study found that bookshop visitors were almost six times more likely to buy a romance novel if they smelt chocolate - and the same results applied to cookery books too . the researchers concluded romance, food and drink books were strongly linked with the smell of chocolate, but other categories of literature were not .'"
            ],
            "application/vnd.google.colaboratory.intrinsic+json": {
              "type": "string"
            }
          },
          "metadata": {},
          "execution_count": 10
        }
      ]
    },
    {
      "cell_type": "code",
      "execution_count": 11,
      "id": "Iufw3x59QmFm",
      "metadata": {
        "colab": {
          "base_uri": "https://localhost:8080/",
          "height": 87
        },
        "id": "Iufw3x59QmFm",
        "outputId": "6d56bf41-d3bc-4854-d18a-035961b5a716"
      },
      "outputs": [
        {
          "output_type": "execute_result",
          "data": {
            "text/plain": [
              "'belgium scientists flooded a bookshop with a chocolatey smell to find customers were almost six times more likely to buy a romance novel . the government-funded study said the scent does not have a big effect on making people want to purchase travel, crime, business or comic books . researchers at antwerp university said the sweet smell encouraged customers to browse and . sales of all books rose during the experiment .'"
            ],
            "application/vnd.google.colaboratory.intrinsic+json": {
              "type": "string"
            }
          },
          "metadata": {},
          "execution_count": 11
        }
      ],
      "source": [
        "ref_txt = cleaned_df['Summary'][8]\n",
        "\n",
        "ref_txt"
      ]
    },
    {
      "cell_type": "markdown",
      "id": "08b78b06",
      "metadata": {
        "id": "08b78b06"
      },
      "source": [
        "##### Load from huggingface"
      ]
    },
    {
      "cell_type": "code",
      "execution_count": 13,
      "id": "XwwLmMvmRsW9",
      "metadata": {
        "id": "XwwLmMvmRsW9",
        "colab": {
          "base_uri": "https://localhost:8080/",
          "height": 49,
          "referenced_widgets": [
            "8851989e040d45dd891617cf641af224",
            "eb23190a0292467e89cad8c12459be3c",
            "9a911798333344ec9beb9d175918e3f9",
            "2a17fb4bda8747a7a42d09efccbcf10a",
            "3a3667ec4afc462d993de5e169965af2",
            "3d8c2af757c04925a8bf33d1dafa7f3a",
            "c59fa1ff58d54829abcd3d5bbc411a92",
            "f5759e61d5c74c30a7803cbdcc0e355d",
            "f88ba35889fd47b583f74ea5f2243e07",
            "bdac6a53f43c424ab76e53b4ccf62029",
            "dc33dd6c6f8b4ba7a57f1816830d987d"
          ]
        },
        "outputId": "f5864ebe-f1b5-4531-d410-2602444fac0d"
      },
      "outputs": [
        {
          "output_type": "display_data",
          "data": {
            "text/plain": [
              "Downloading builder script:   0%|          | 0.00/6.27k [00:00<?, ?B/s]"
            ],
            "application/vnd.jupyter.widget-view+json": {
              "version_major": 2,
              "version_minor": 0,
              "model_id": "8851989e040d45dd891617cf641af224"
            }
          },
          "metadata": {}
        }
      ],
      "source": [
        "import evaluate\n",
        "\n",
        "rouge = evaluate.load(\"rouge\")"
      ]
    },
    {
      "cell_type": "markdown",
      "source": [
        "ROUGE (Recall-Oriented Understudy for Gisting Evaluation) is a set of metrics used to evaluate the quality of text summarization and machine-generated text by comparing it to reference summaries or texts. The different ROUGE scores capture various aspects of the overlap between the generated text and the reference text. Here’s an overview of the most commonly used ROUGE metrics:\n",
        "\n",
        "1. ROUGE-N\n",
        "\n",
        "Definition: ROUGE-N measures the overlap of n-grams (contiguous sequences of n items, typically words) between the generated summary and the reference summary.\n",
        "\n",
        "Variants:\n",
        "\n",
        "- ROUGE-1: Measures the overlap of unigrams (single words). It evaluates the ability of the model to capture the content in individual words.\n",
        "- ROUGE-2: Measures the overlap of bigrams (two consecutive words). This captures the ability of the model to maintain the sequence of words.\n",
        "- ROUGE-3, ROUGE-4, etc.: Measure overlap of trigrams, four-grams, and so on. Higher n-grams capture more context but can be harder to match exactly.\n",
        "- Interpretation: Higher ROUGE-N scores indicate better preservation of the original content and structure in the generated text.\n",
        "\n",
        "2. ROUGE-L\n",
        "- Definition: ROUGE-L measures the longest common subsequence (LCS) between the generated and reference summaries. The LCS is a sequence that appears in both texts in the same order but not necessarily consecutively.\n",
        "- Why LCS?: Unlike n-gram overlap, LCS takes into account sentence-level word order and is less strict about consecutive matching, making it more adaptable to different writing styles.\n",
        "- ROUGE-LSum is a variant of the ROUGE-L metric, specifically designed for evaluating the quality of summarization tasks where multiple sentences are involved. It extends the original ROUGE-L by focusing on the sequence of sentences in addition to the sequence of words within those sentences."
      ],
      "metadata": {
        "id": "RrTK4bOJNjMU"
      },
      "id": "RrTK4bOJNjMU"
    },
    {
      "cell_type": "code",
      "execution_count": 14,
      "id": "bYXh6H79SL2o",
      "metadata": {
        "colab": {
          "base_uri": "https://localhost:8080/"
        },
        "id": "bYXh6H79SL2o",
        "outputId": "f1591117-27b0-45b5-eb22-4a816a139c4a"
      },
      "outputs": [
        {
          "output_type": "execute_result",
          "data": {
            "text/plain": [
              "{'rouge1': 0.47482014388489213,\n",
              " 'rouge2': 0.2627737226277372,\n",
              " 'rougeL': 0.3165467625899281,\n",
              " 'rougeLsum': 0.3165467625899281}"
            ]
          },
          "metadata": {},
          "execution_count": 14
        }
      ],
      "source": [
        "summary_result = rouge.compute(\n",
        "    predictions = [summary_txt[0][\"summary_text\"]],\n",
        "    references = [ref_txt], use_stemmer = True\n",
        ")\n",
        "\n",
        "summary_result"
      ]
    },
    {
      "cell_type": "code",
      "execution_count": 15,
      "id": "5mNUMPR4TYfb",
      "metadata": {
        "colab": {
          "base_uri": "https://localhost:8080/",
          "height": 458
        },
        "id": "5mNUMPR4TYfb",
        "outputId": "77532149-57e2-48d0-8d14-eb9a3c9597ea"
      },
      "outputs": [
        {
          "output_type": "execute_result",
          "data": {
            "text/plain": [
              "0       it seems to be customary for manchester united...\n",
              "1       during cnn going green: green light for busine...\n",
              "2       london (cnn) -- police are to investigate clai...\n",
              "3       (cnn) -- four people were killed and one serio...\n",
              "4       family believes kristi and benjamin strack kil...\n",
              "                              ...                        \n",
              "4995    by . dan bloom . published: . 08:46 est, 14 no...\n",
              "4996    staff at the children ward at southampton gene...\n",
              "4997    by . mia de graaf . published: . 14:38 est, 12...\n",
              "4998    stores of timber were destroyed in the fire at...\n",
              "4999    sean raggett header put lincoln 1-0 up and for...\n",
              "Name: Content, Length: 5000, dtype: object"
            ],
            "text/html": [
              "<div>\n",
              "<style scoped>\n",
              "    .dataframe tbody tr th:only-of-type {\n",
              "        vertical-align: middle;\n",
              "    }\n",
              "\n",
              "    .dataframe tbody tr th {\n",
              "        vertical-align: top;\n",
              "    }\n",
              "\n",
              "    .dataframe thead th {\n",
              "        text-align: right;\n",
              "    }\n",
              "</style>\n",
              "<table border=\"1\" class=\"dataframe\">\n",
              "  <thead>\n",
              "    <tr style=\"text-align: right;\">\n",
              "      <th></th>\n",
              "      <th>Content</th>\n",
              "    </tr>\n",
              "  </thead>\n",
              "  <tbody>\n",
              "    <tr>\n",
              "      <th>0</th>\n",
              "      <td>it seems to be customary for manchester united...</td>\n",
              "    </tr>\n",
              "    <tr>\n",
              "      <th>1</th>\n",
              "      <td>during cnn going green: green light for busine...</td>\n",
              "    </tr>\n",
              "    <tr>\n",
              "      <th>2</th>\n",
              "      <td>london (cnn) -- police are to investigate clai...</td>\n",
              "    </tr>\n",
              "    <tr>\n",
              "      <th>3</th>\n",
              "      <td>(cnn) -- four people were killed and one serio...</td>\n",
              "    </tr>\n",
              "    <tr>\n",
              "      <th>4</th>\n",
              "      <td>family believes kristi and benjamin strack kil...</td>\n",
              "    </tr>\n",
              "    <tr>\n",
              "      <th>...</th>\n",
              "      <td>...</td>\n",
              "    </tr>\n",
              "    <tr>\n",
              "      <th>4995</th>\n",
              "      <td>by . dan bloom . published: . 08:46 est, 14 no...</td>\n",
              "    </tr>\n",
              "    <tr>\n",
              "      <th>4996</th>\n",
              "      <td>staff at the children ward at southampton gene...</td>\n",
              "    </tr>\n",
              "    <tr>\n",
              "      <th>4997</th>\n",
              "      <td>by . mia de graaf . published: . 14:38 est, 12...</td>\n",
              "    </tr>\n",
              "    <tr>\n",
              "      <th>4998</th>\n",
              "      <td>stores of timber were destroyed in the fire at...</td>\n",
              "    </tr>\n",
              "    <tr>\n",
              "      <th>4999</th>\n",
              "      <td>sean raggett header put lincoln 1-0 up and for...</td>\n",
              "    </tr>\n",
              "  </tbody>\n",
              "</table>\n",
              "<p>5000 rows × 1 columns</p>\n",
              "</div><br><label><b>dtype:</b> object</label>"
            ]
          },
          "metadata": {},
          "execution_count": 15
        }
      ],
      "source": [
        "articles_txt = cleaned_df['Content']\n",
        "\n",
        "articles_txt"
      ]
    },
    {
      "cell_type": "markdown",
      "id": "9c899aed",
      "metadata": {
        "id": "9c899aed"
      },
      "source": [
        "##### tqdm module to create a progress bar for a loop that iterates over the first 50 elements of the articless_txt list inside the loop it uses a summarizer to generate summaries for each text element and appends the generated summaries to the candidate_summaries list"
      ]
    },
    {
      "cell_type": "code",
      "execution_count": 16,
      "id": "N3E77X9YSQwv",
      "metadata": {
        "colab": {
          "base_uri": "https://localhost:8080/"
        },
        "id": "N3E77X9YSQwv",
        "outputId": "b504b800-d1c8-4791-814d-72f6ebefc7bb"
      },
      "outputs": [
        {
          "output_type": "stream",
          "name": "stderr",
          "text": [
            " 18%|█▊        | 9/50 [00:07<00:35,  1.15it/s]You seem to be using the pipelines sequentially on GPU. In order to maximize efficiency please use a dataset\n",
            " 26%|██▌       | 13/50 [00:10<00:26,  1.40it/s]Your max_length is set to 142, but your input_length is only 126. Since this is a summarization task, where outputs shorter than the input are typically wanted, you might consider decreasing max_length manually, e.g. summarizer('...', max_length=63)\n",
            " 76%|███████▌  | 38/50 [00:32<00:11,  1.03it/s]Your max_length is set to 142, but your input_length is only 116. Since this is a summarization task, where outputs shorter than the input are typically wanted, you might consider decreasing max_length manually, e.g. summarizer('...', max_length=58)\n",
            "100%|██████████| 50/50 [00:40<00:00,  1.23it/s]\n"
          ]
        }
      ],
      "source": [
        "from tqdm import tqdm\n",
        "\n",
        "candidate_summaries = []\n",
        "\n",
        "for i, text in enumerate(tqdm(articles_txt[:50])):\n",
        "    candidate = summarizer(text)\n",
        "\n",
        "    candidate_summaries.append(candidate[0][\"summary_text\"])"
      ]
    },
    {
      "cell_type": "code",
      "source": [
        "summaries_txt = cleaned_df['Summary']\n",
        "\n",
        "summaries_txt"
      ],
      "metadata": {
        "id": "QY-3Ou4U7Wrc",
        "colab": {
          "base_uri": "https://localhost:8080/",
          "height": 458
        },
        "outputId": "87464de8-2d84-46b2-f94c-f32b31eddd09"
      },
      "id": "QY-3Ou4U7Wrc",
      "execution_count": 17,
      "outputs": [
        {
          "output_type": "execute_result",
          "data": {
            "text/plain": [
              "0       victor valdes posed with a fan outside san car...\n",
              "1       jet republic has teamed up with climatecare to...\n",
              "2       new: the uk government stands firmly against t...\n",
              "3       an explosion occurrs at a storage tank that wa...\n",
              "4       – police suspect foul play and poisoning in th...\n",
              "                              ...                        \n",
              "4995    olivia adams, 13, was told she had broken a st...\n",
              "4996    a thief stole a games console from a hospital ...\n",
              "4997    nitzan benhaim tackled 90ft-tall waves in naza...\n",
              "4998    a luxury gazebo firm escaped major damage by t...\n",
              "4999    york city defeated national league leaders lin...\n",
              "Name: Summary, Length: 5000, dtype: object"
            ],
            "text/html": [
              "<div>\n",
              "<style scoped>\n",
              "    .dataframe tbody tr th:only-of-type {\n",
              "        vertical-align: middle;\n",
              "    }\n",
              "\n",
              "    .dataframe tbody tr th {\n",
              "        vertical-align: top;\n",
              "    }\n",
              "\n",
              "    .dataframe thead th {\n",
              "        text-align: right;\n",
              "    }\n",
              "</style>\n",
              "<table border=\"1\" class=\"dataframe\">\n",
              "  <thead>\n",
              "    <tr style=\"text-align: right;\">\n",
              "      <th></th>\n",
              "      <th>Summary</th>\n",
              "    </tr>\n",
              "  </thead>\n",
              "  <tbody>\n",
              "    <tr>\n",
              "      <th>0</th>\n",
              "      <td>victor valdes posed with a fan outside san car...</td>\n",
              "    </tr>\n",
              "    <tr>\n",
              "      <th>1</th>\n",
              "      <td>jet republic has teamed up with climatecare to...</td>\n",
              "    </tr>\n",
              "    <tr>\n",
              "      <th>2</th>\n",
              "      <td>new: the uk government stands firmly against t...</td>\n",
              "    </tr>\n",
              "    <tr>\n",
              "      <th>3</th>\n",
              "      <td>an explosion occurrs at a storage tank that wa...</td>\n",
              "    </tr>\n",
              "    <tr>\n",
              "      <th>4</th>\n",
              "      <td>– police suspect foul play and poisoning in th...</td>\n",
              "    </tr>\n",
              "    <tr>\n",
              "      <th>...</th>\n",
              "      <td>...</td>\n",
              "    </tr>\n",
              "    <tr>\n",
              "      <th>4995</th>\n",
              "      <td>olivia adams, 13, was told she had broken a st...</td>\n",
              "    </tr>\n",
              "    <tr>\n",
              "      <th>4996</th>\n",
              "      <td>a thief stole a games console from a hospital ...</td>\n",
              "    </tr>\n",
              "    <tr>\n",
              "      <th>4997</th>\n",
              "      <td>nitzan benhaim tackled 90ft-tall waves in naza...</td>\n",
              "    </tr>\n",
              "    <tr>\n",
              "      <th>4998</th>\n",
              "      <td>a luxury gazebo firm escaped major damage by t...</td>\n",
              "    </tr>\n",
              "    <tr>\n",
              "      <th>4999</th>\n",
              "      <td>york city defeated national league leaders lin...</td>\n",
              "    </tr>\n",
              "  </tbody>\n",
              "</table>\n",
              "<p>5000 rows × 1 columns</p>\n",
              "</div><br><label><b>dtype:</b> object</label>"
            ]
          },
          "metadata": {},
          "execution_count": 17
        }
      ]
    },
    {
      "cell_type": "code",
      "execution_count": 18,
      "id": "WTarfjRoTl5D",
      "metadata": {
        "id": "WTarfjRoTl5D",
        "colab": {
          "base_uri": "https://localhost:8080/"
        },
        "outputId": "c7195c0a-9d1b-49af-8728-1065fe13d3fd"
      },
      "outputs": [
        {
          "output_type": "execute_result",
          "data": {
            "text/plain": [
              "{'rouge1': [0.3829787234042554,\n",
              "  0.40740740740740744,\n",
              "  0.5084745762711864,\n",
              "  0.5,\n",
              "  0.27309236947791166,\n",
              "  0.4852941176470589,\n",
              "  0.3076923076923077,\n",
              "  0.5420560747663552,\n",
              "  0.47482014388489213,\n",
              "  0.3777777777777778,\n",
              "  0.31683168316831684,\n",
              "  0.5168539325842696,\n",
              "  0.4356435643564357,\n",
              "  0.09677419354838708,\n",
              "  0.3188405797101449,\n",
              "  0.3850267379679144,\n",
              "  0.17391304347826086,\n",
              "  0.3783783783783784,\n",
              "  0.7580645161290323,\n",
              "  0.23809523809523805,\n",
              "  0.35443037974683544,\n",
              "  0.22222222222222224,\n",
              "  0.3055555555555556,\n",
              "  0.19718309859154928,\n",
              "  0.42696629213483145,\n",
              "  0.3134328358208955,\n",
              "  0.22222222222222224,\n",
              "  0.3373493975903615,\n",
              "  0.288135593220339,\n",
              "  0.3576158940397351,\n",
              "  0.42276422764227645,\n",
              "  0.4403669724770642,\n",
              "  0.2380952380952381,\n",
              "  0.4409448818897638,\n",
              "  0.35999999999999993,\n",
              "  0.2527075812274368,\n",
              "  0.1739130434782609,\n",
              "  0.3958333333333333,\n",
              "  0.25,\n",
              "  0.1518987341772152,\n",
              "  0.5192307692307692,\n",
              "  0.20338983050847456,\n",
              "  0.628099173553719,\n",
              "  0.5663716814159292,\n",
              "  0.7714285714285715,\n",
              "  0.1,\n",
              "  0.4142857142857143,\n",
              "  0.48101265822784806,\n",
              "  0.3636363636363636,\n",
              "  0.4999999999999999],\n",
              " 'rouge2': [0.2608695652173913,\n",
              "  0.20754716981132076,\n",
              "  0.1896551724137931,\n",
              "  0.30232558139534876,\n",
              "  0.032388663967611336,\n",
              "  0.28358208955223885,\n",
              "  0.07812499999999999,\n",
              "  0.38095238095238093,\n",
              "  0.2627737226277372,\n",
              "  0.1818181818181818,\n",
              "  0.020202020202020204,\n",
              "  0.3218390804597701,\n",
              "  0.1616161616161616,\n",
              "  0.0,\n",
              "  0.11764705882352941,\n",
              "  0.12972972972972974,\n",
              "  0.029850746268656712,\n",
              "  0.16513761467889906,\n",
              "  0.5737704918032787,\n",
              "  0.04109589041095891,\n",
              "  0.18181818181818182,\n",
              "  0.1044776119402985,\n",
              "  0.05714285714285715,\n",
              "  0.0,\n",
              "  0.09195402298850575,\n",
              "  0.10606060606060606,\n",
              "  0.025,\n",
              "  0.22222222222222224,\n",
              "  0.06896551724137931,\n",
              "  0.08053691275167785,\n",
              "  0.19834710743801653,\n",
              "  0.2990654205607477,\n",
              "  0.048780487804878044,\n",
              "  0.208,\n",
              "  0.14285714285714288,\n",
              "  0.06545454545454546,\n",
              "  0.0,\n",
              "  0.14893617021276595,\n",
              "  0.09677419354838708,\n",
              "  0.025974025974025972,\n",
              "  0.3137254901960785,\n",
              "  0.10526315789473684,\n",
              "  0.4705882352941176,\n",
              "  0.27027027027027023,\n",
              "  0.6176470588235294,\n",
              "  0.0,\n",
              "  0.17391304347826086,\n",
              "  0.2857142857142857,\n",
              "  0.16279069767441862,\n",
              "  0.3428571428571429],\n",
              " 'rougeL': [0.36170212765957455,\n",
              "  0.25925925925925924,\n",
              "  0.1864406779661017,\n",
              "  0.409090909090909,\n",
              "  0.15261044176706826,\n",
              "  0.3970588235294118,\n",
              "  0.1846153846153846,\n",
              "  0.4485981308411215,\n",
              "  0.3165467625899281,\n",
              "  0.33333333333333326,\n",
              "  0.1386138613861386,\n",
              "  0.449438202247191,\n",
              "  0.25742574257425743,\n",
              "  0.06451612903225806,\n",
              "  0.2318840579710145,\n",
              "  0.17112299465240643,\n",
              "  0.11594202898550723,\n",
              "  0.2702702702702703,\n",
              "  0.6612903225806452,\n",
              "  0.14285714285714285,\n",
              "  0.3037974683544304,\n",
              "  0.11851851851851852,\n",
              "  0.25,\n",
              "  0.11267605633802817,\n",
              "  0.26966292134831465,\n",
              "  0.16417910447761194,\n",
              "  0.14814814814814814,\n",
              "  0.3373493975903615,\n",
              "  0.16949152542372883,\n",
              "  0.22516556291390727,\n",
              "  0.2764227642276423,\n",
              "  0.33027522935779813,\n",
              "  0.14285714285714285,\n",
              "  0.26771653543307083,\n",
              "  0.17999999999999997,\n",
              "  0.15162454873646208,\n",
              "  0.11594202898550723,\n",
              "  0.33333333333333337,\n",
              "  0.25,\n",
              "  0.12658227848101267,\n",
              "  0.4615384615384615,\n",
              "  0.20338983050847456,\n",
              "  0.5950413223140496,\n",
              "  0.44247787610619466,\n",
              "  0.7714285714285715,\n",
              "  0.075,\n",
              "  0.3,\n",
              "  0.379746835443038,\n",
              "  0.25,\n",
              "  0.4999999999999999],\n",
              " 'rougeLsum': [0.36170212765957455,\n",
              "  0.25925925925925924,\n",
              "  0.1864406779661017,\n",
              "  0.409090909090909,\n",
              "  0.15261044176706826,\n",
              "  0.3970588235294118,\n",
              "  0.1846153846153846,\n",
              "  0.4485981308411215,\n",
              "  0.3165467625899281,\n",
              "  0.33333333333333326,\n",
              "  0.1386138613861386,\n",
              "  0.449438202247191,\n",
              "  0.25742574257425743,\n",
              "  0.06451612903225806,\n",
              "  0.2318840579710145,\n",
              "  0.17112299465240643,\n",
              "  0.11594202898550723,\n",
              "  0.2702702702702703,\n",
              "  0.6612903225806452,\n",
              "  0.14285714285714285,\n",
              "  0.3037974683544304,\n",
              "  0.11851851851851852,\n",
              "  0.25,\n",
              "  0.11267605633802817,\n",
              "  0.26966292134831465,\n",
              "  0.16417910447761194,\n",
              "  0.14814814814814814,\n",
              "  0.3373493975903615,\n",
              "  0.16949152542372883,\n",
              "  0.22516556291390727,\n",
              "  0.2764227642276423,\n",
              "  0.33027522935779813,\n",
              "  0.14285714285714285,\n",
              "  0.26771653543307083,\n",
              "  0.17999999999999997,\n",
              "  0.15162454873646208,\n",
              "  0.11594202898550723,\n",
              "  0.33333333333333337,\n",
              "  0.25,\n",
              "  0.12658227848101267,\n",
              "  0.4615384615384615,\n",
              "  0.20338983050847456,\n",
              "  0.5950413223140496,\n",
              "  0.44247787610619466,\n",
              "  0.7714285714285715,\n",
              "  0.075,\n",
              "  0.3,\n",
              "  0.379746835443038,\n",
              "  0.25,\n",
              "  0.4999999999999999]}"
            ]
          },
          "metadata": {},
          "execution_count": 18
        }
      ],
      "source": [
        "result_unagg = rouge.compute(\n",
        "    predictions=candidate_summaries,\n",
        "    references=summaries_txt[:50],\n",
        "    use_stemmer=True,\n",
        "    use_aggregator=False\n",
        ")\n",
        "\n",
        "result_unagg"
      ]
    },
    {
      "cell_type": "code",
      "source": [
        "result_agg = rouge.compute(predictions=candidate_summaries,\n",
        "                           references=summaries_txt[:50],\n",
        "                           use_stemmer=True)\n",
        "result_agg"
      ],
      "metadata": {
        "id": "8WueLhp3pxkY",
        "colab": {
          "base_uri": "https://localhost:8080/"
        },
        "outputId": "7a1f7875-0930-4c59-d1e3-0d0af84578db"
      },
      "id": "8WueLhp3pxkY",
      "execution_count": 19,
      "outputs": [
        {
          "output_type": "execute_result",
          "data": {
            "text/plain": [
              "{'rouge1': 0.3711112180118469,\n",
              " 'rouge2': 0.1735745443175322,\n",
              " 'rougeL': 0.2748008430248823,\n",
              " 'rougeLsum': 0.275912754084674}"
            ]
          },
          "metadata": {},
          "execution_count": 19
        }
      ]
    },
    {
      "cell_type": "markdown",
      "id": "ynU9QX_-Y4Jw",
      "metadata": {
        "id": "ynU9QX_-Y4Jw"
      },
      "source": [
        "##### Minimum and maximum Rouge score indices are obtained to check best and worst summaries"
      ]
    },
    {
      "cell_type": "code",
      "execution_count": 20,
      "id": "0uzVrpTYYy9s",
      "metadata": {
        "id": "0uzVrpTYYy9s",
        "colab": {
          "base_uri": "https://localhost:8080/"
        },
        "outputId": "0f8b1685-ae29-480d-93f3-300feffa5a31"
      },
      "outputs": [
        {
          "output_type": "execute_result",
          "data": {
            "text/plain": [
              "(44, 13)"
            ]
          },
          "metadata": {},
          "execution_count": 20
        }
      ],
      "source": [
        "import numpy as np\n",
        "\n",
        "result_unagg_rsum = np.array(result_unagg[\"rougeLsum\"])\n",
        "\n",
        "max_arg = np.argmax(result_unagg_rsum)\n",
        "min_arg = np.argmin(result_unagg_rsum)\n",
        "\n",
        "max_arg, min_arg"
      ]
    },
    {
      "cell_type": "code",
      "source": [
        "candidate_summaries[min_arg]"
      ],
      "metadata": {
        "id": "gnq7FR2IpImr",
        "colab": {
          "base_uri": "https://localhost:8080/",
          "height": 70
        },
        "outputId": "7972be2b-0f0c-4924-a7f2-26e7194393ed"
      },
      "id": "gnq7FR2IpImr",
      "execution_count": 21,
      "outputs": [
        {
          "output_type": "execute_result",
          "data": {
            "text/plain": [
              "' The 27-year-old is unattached after leaving the club in july . The former udinese man initially joined the hornets on loan in 2012, before signing on a free transfer in 2013 . He has two senior international caps for sweden, making 100 appearances in total .'"
            ],
            "application/vnd.google.colaboratory.intrinsic+json": {
              "type": "string"
            }
          },
          "metadata": {},
          "execution_count": 21
        }
      ]
    },
    {
      "cell_type": "code",
      "source": [
        "summaries_txt[min_arg]"
      ],
      "metadata": {
        "id": "57ckUpcopNvW",
        "colab": {
          "base_uri": "https://localhost:8080/",
          "height": 35
        },
        "outputId": "1ab8214b-b7a5-42dc-d534-0761b36d737f"
      },
      "id": "57ckUpcopNvW",
      "execution_count": 22,
      "outputs": [
        {
          "output_type": "execute_result",
          "data": {
            "text/plain": [
              "'former watford defender joel ekstrand is currently training with bristol city, head coach lee johnson has said.'"
            ],
            "application/vnd.google.colaboratory.intrinsic+json": {
              "type": "string"
            }
          },
          "metadata": {},
          "execution_count": 22
        }
      ]
    },
    {
      "cell_type": "code",
      "source": [
        "candidate_summaries[max_arg]"
      ],
      "metadata": {
        "id": "JQ0Ps35gpNlz",
        "colab": {
          "base_uri": "https://localhost:8080/",
          "height": 70
        },
        "outputId": "4862a912-3e2e-44e3-d4f0-3895a7344741"
      },
      "id": "JQ0Ps35gpNlz",
      "execution_count": 23,
      "outputs": [
        {
          "output_type": "execute_result",
          "data": {
            "text/plain": [
              "' janelle duncan-bailey, 25, went missing in south london in the early hours of wed Wednesday . Her body was found yesterday afternoon in mayfield crescent, thornton heath . Jerome mcdonald, 30, has been charged with her murder and will appear in court tomorrow .'"
            ],
            "application/vnd.google.colaboratory.intrinsic+json": {
              "type": "string"
            }
          },
          "metadata": {},
          "execution_count": 23
        }
      ]
    },
    {
      "cell_type": "code",
      "source": [
        "summaries_txt[max_arg]"
      ],
      "metadata": {
        "id": "cq5I8i2NpNaE",
        "colab": {
          "base_uri": "https://localhost:8080/",
          "height": 53
        },
        "outputId": "cd361d8f-91f8-4a96-d769-d697585e9b0b"
      },
      "id": "cq5I8i2NpNaE",
      "execution_count": 24,
      "outputs": [
        {
          "output_type": "execute_result",
          "data": {
            "text/plain": [
              "'janelle duncan-bailey went missing in south london early on wednesday . her body was found yesterday in thornton heath . jerome mcdonald, 30, has been charged with her murder .'"
            ],
            "application/vnd.google.colaboratory.intrinsic+json": {
              "type": "string"
            }
          },
          "metadata": {},
          "execution_count": 24
        }
      ]
    },
    {
      "cell_type": "code",
      "execution_count": 25,
      "id": "1M1TTNEtY7dM",
      "metadata": {
        "id": "1M1TTNEtY7dM",
        "colab": {
          "base_uri": "https://localhost:8080/",
          "height": 363
        },
        "outputId": "553e9ae4-36ea-454f-901c-f3d1c84f5ea8"
      },
      "outputs": [
        {
          "output_type": "execute_result",
          "data": {
            "text/plain": [
              "                                 Predicted_Summaries  \\\n",
              "0   victor valdes enjoyed a meal out at san carlo...   \n",
              "1   Aviation industry is often seen as one of the...   \n",
              "2   London police to investigate claims that brit...   \n",
              "3   The explosion occurred at a storage tank that...   \n",
              "4   Family believes kristi and benjamin strack ki...   \n",
              "5   An executive at apple said that the company h...   \n",
              "6   Cell phone novels are written entirely on han...   \n",
              "7   The facebook group plus size modeling shared ...   \n",
              "8   Researchers at antwerp university in belgium,...   \n",
              "9   NEW: egypt prime minister appeals for calm an...   \n",
              "\n",
              "                                 Reference_summaries  \n",
              "0  victor valdes posed with a fan outside san car...  \n",
              "1  jet republic has teamed up with climatecare to...  \n",
              "2  new: the uk government stands firmly against t...  \n",
              "3  an explosion occurrs at a storage tank that wa...  \n",
              "4  – police suspect foul play and poisoning in th...  \n",
              "5  apple says the company has no obligation to he...  \n",
              "6  hugely popular cell phone novels have created ...  \n",
              "7  the facebook group plus size modeling . shared...  \n",
              "8  belgium scientists flooded a bookshop with a c...  \n",
              "9  new: three arrested american students identifi...  "
            ],
            "text/html": [
              "\n",
              "  <div id=\"df-94f2e63c-5345-4d36-bea8-7e0d70c6a509\" class=\"colab-df-container\">\n",
              "    <div>\n",
              "<style scoped>\n",
              "    .dataframe tbody tr th:only-of-type {\n",
              "        vertical-align: middle;\n",
              "    }\n",
              "\n",
              "    .dataframe tbody tr th {\n",
              "        vertical-align: top;\n",
              "    }\n",
              "\n",
              "    .dataframe thead th {\n",
              "        text-align: right;\n",
              "    }\n",
              "</style>\n",
              "<table border=\"1\" class=\"dataframe\">\n",
              "  <thead>\n",
              "    <tr style=\"text-align: right;\">\n",
              "      <th></th>\n",
              "      <th>Predicted_Summaries</th>\n",
              "      <th>Reference_summaries</th>\n",
              "    </tr>\n",
              "  </thead>\n",
              "  <tbody>\n",
              "    <tr>\n",
              "      <th>0</th>\n",
              "      <td>victor valdes enjoyed a meal out at san carlo...</td>\n",
              "      <td>victor valdes posed with a fan outside san car...</td>\n",
              "    </tr>\n",
              "    <tr>\n",
              "      <th>1</th>\n",
              "      <td>Aviation industry is often seen as one of the...</td>\n",
              "      <td>jet republic has teamed up with climatecare to...</td>\n",
              "    </tr>\n",
              "    <tr>\n",
              "      <th>2</th>\n",
              "      <td>London police to investigate claims that brit...</td>\n",
              "      <td>new: the uk government stands firmly against t...</td>\n",
              "    </tr>\n",
              "    <tr>\n",
              "      <th>3</th>\n",
              "      <td>The explosion occurred at a storage tank that...</td>\n",
              "      <td>an explosion occurrs at a storage tank that wa...</td>\n",
              "    </tr>\n",
              "    <tr>\n",
              "      <th>4</th>\n",
              "      <td>Family believes kristi and benjamin strack ki...</td>\n",
              "      <td>– police suspect foul play and poisoning in th...</td>\n",
              "    </tr>\n",
              "    <tr>\n",
              "      <th>5</th>\n",
              "      <td>An executive at apple said that the company h...</td>\n",
              "      <td>apple says the company has no obligation to he...</td>\n",
              "    </tr>\n",
              "    <tr>\n",
              "      <th>6</th>\n",
              "      <td>Cell phone novels are written entirely on han...</td>\n",
              "      <td>hugely popular cell phone novels have created ...</td>\n",
              "    </tr>\n",
              "    <tr>\n",
              "      <th>7</th>\n",
              "      <td>The facebook group plus size modeling shared ...</td>\n",
              "      <td>the facebook group plus size modeling . shared...</td>\n",
              "    </tr>\n",
              "    <tr>\n",
              "      <th>8</th>\n",
              "      <td>Researchers at antwerp university in belgium,...</td>\n",
              "      <td>belgium scientists flooded a bookshop with a c...</td>\n",
              "    </tr>\n",
              "    <tr>\n",
              "      <th>9</th>\n",
              "      <td>NEW: egypt prime minister appeals for calm an...</td>\n",
              "      <td>new: three arrested american students identifi...</td>\n",
              "    </tr>\n",
              "  </tbody>\n",
              "</table>\n",
              "</div>\n",
              "    <div class=\"colab-df-buttons\">\n",
              "\n",
              "  <div class=\"colab-df-container\">\n",
              "    <button class=\"colab-df-convert\" onclick=\"convertToInteractive('df-94f2e63c-5345-4d36-bea8-7e0d70c6a509')\"\n",
              "            title=\"Convert this dataframe to an interactive table.\"\n",
              "            style=\"display:none;\">\n",
              "\n",
              "  <svg xmlns=\"http://www.w3.org/2000/svg\" height=\"24px\" viewBox=\"0 -960 960 960\">\n",
              "    <path d=\"M120-120v-720h720v720H120Zm60-500h600v-160H180v160Zm220 220h160v-160H400v160Zm0 220h160v-160H400v160ZM180-400h160v-160H180v160Zm440 0h160v-160H620v160ZM180-180h160v-160H180v160Zm440 0h160v-160H620v160Z\"/>\n",
              "  </svg>\n",
              "    </button>\n",
              "\n",
              "  <style>\n",
              "    .colab-df-container {\n",
              "      display:flex;\n",
              "      gap: 12px;\n",
              "    }\n",
              "\n",
              "    .colab-df-convert {\n",
              "      background-color: #E8F0FE;\n",
              "      border: none;\n",
              "      border-radius: 50%;\n",
              "      cursor: pointer;\n",
              "      display: none;\n",
              "      fill: #1967D2;\n",
              "      height: 32px;\n",
              "      padding: 0 0 0 0;\n",
              "      width: 32px;\n",
              "    }\n",
              "\n",
              "    .colab-df-convert:hover {\n",
              "      background-color: #E2EBFA;\n",
              "      box-shadow: 0px 1px 2px rgba(60, 64, 67, 0.3), 0px 1px 3px 1px rgba(60, 64, 67, 0.15);\n",
              "      fill: #174EA6;\n",
              "    }\n",
              "\n",
              "    .colab-df-buttons div {\n",
              "      margin-bottom: 4px;\n",
              "    }\n",
              "\n",
              "    [theme=dark] .colab-df-convert {\n",
              "      background-color: #3B4455;\n",
              "      fill: #D2E3FC;\n",
              "    }\n",
              "\n",
              "    [theme=dark] .colab-df-convert:hover {\n",
              "      background-color: #434B5C;\n",
              "      box-shadow: 0px 1px 3px 1px rgba(0, 0, 0, 0.15);\n",
              "      filter: drop-shadow(0px 1px 2px rgba(0, 0, 0, 0.3));\n",
              "      fill: #FFFFFF;\n",
              "    }\n",
              "  </style>\n",
              "\n",
              "    <script>\n",
              "      const buttonEl =\n",
              "        document.querySelector('#df-94f2e63c-5345-4d36-bea8-7e0d70c6a509 button.colab-df-convert');\n",
              "      buttonEl.style.display =\n",
              "        google.colab.kernel.accessAllowed ? 'block' : 'none';\n",
              "\n",
              "      async function convertToInteractive(key) {\n",
              "        const element = document.querySelector('#df-94f2e63c-5345-4d36-bea8-7e0d70c6a509');\n",
              "        const dataTable =\n",
              "          await google.colab.kernel.invokeFunction('convertToInteractive',\n",
              "                                                    [key], {});\n",
              "        if (!dataTable) return;\n",
              "\n",
              "        const docLinkHtml = 'Like what you see? Visit the ' +\n",
              "          '<a target=\"_blank\" href=https://colab.research.google.com/notebooks/data_table.ipynb>data table notebook</a>'\n",
              "          + ' to learn more about interactive tables.';\n",
              "        element.innerHTML = '';\n",
              "        dataTable['output_type'] = 'display_data';\n",
              "        await google.colab.output.renderOutput(dataTable, element);\n",
              "        const docLink = document.createElement('div');\n",
              "        docLink.innerHTML = docLinkHtml;\n",
              "        element.appendChild(docLink);\n",
              "      }\n",
              "    </script>\n",
              "  </div>\n",
              "\n",
              "\n",
              "<div id=\"df-9f29507d-c118-419c-a98a-99c87039441b\">\n",
              "  <button class=\"colab-df-quickchart\" onclick=\"quickchart('df-9f29507d-c118-419c-a98a-99c87039441b')\"\n",
              "            title=\"Suggest charts\"\n",
              "            style=\"display:none;\">\n",
              "\n",
              "<svg xmlns=\"http://www.w3.org/2000/svg\" height=\"24px\"viewBox=\"0 0 24 24\"\n",
              "     width=\"24px\">\n",
              "    <g>\n",
              "        <path d=\"M19 3H5c-1.1 0-2 .9-2 2v14c0 1.1.9 2 2 2h14c1.1 0 2-.9 2-2V5c0-1.1-.9-2-2-2zM9 17H7v-7h2v7zm4 0h-2V7h2v10zm4 0h-2v-4h2v4z\"/>\n",
              "    </g>\n",
              "</svg>\n",
              "  </button>\n",
              "\n",
              "<style>\n",
              "  .colab-df-quickchart {\n",
              "      --bg-color: #E8F0FE;\n",
              "      --fill-color: #1967D2;\n",
              "      --hover-bg-color: #E2EBFA;\n",
              "      --hover-fill-color: #174EA6;\n",
              "      --disabled-fill-color: #AAA;\n",
              "      --disabled-bg-color: #DDD;\n",
              "  }\n",
              "\n",
              "  [theme=dark] .colab-df-quickchart {\n",
              "      --bg-color: #3B4455;\n",
              "      --fill-color: #D2E3FC;\n",
              "      --hover-bg-color: #434B5C;\n",
              "      --hover-fill-color: #FFFFFF;\n",
              "      --disabled-bg-color: #3B4455;\n",
              "      --disabled-fill-color: #666;\n",
              "  }\n",
              "\n",
              "  .colab-df-quickchart {\n",
              "    background-color: var(--bg-color);\n",
              "    border: none;\n",
              "    border-radius: 50%;\n",
              "    cursor: pointer;\n",
              "    display: none;\n",
              "    fill: var(--fill-color);\n",
              "    height: 32px;\n",
              "    padding: 0;\n",
              "    width: 32px;\n",
              "  }\n",
              "\n",
              "  .colab-df-quickchart:hover {\n",
              "    background-color: var(--hover-bg-color);\n",
              "    box-shadow: 0 1px 2px rgba(60, 64, 67, 0.3), 0 1px 3px 1px rgba(60, 64, 67, 0.15);\n",
              "    fill: var(--button-hover-fill-color);\n",
              "  }\n",
              "\n",
              "  .colab-df-quickchart-complete:disabled,\n",
              "  .colab-df-quickchart-complete:disabled:hover {\n",
              "    background-color: var(--disabled-bg-color);\n",
              "    fill: var(--disabled-fill-color);\n",
              "    box-shadow: none;\n",
              "  }\n",
              "\n",
              "  .colab-df-spinner {\n",
              "    border: 2px solid var(--fill-color);\n",
              "    border-color: transparent;\n",
              "    border-bottom-color: var(--fill-color);\n",
              "    animation:\n",
              "      spin 1s steps(1) infinite;\n",
              "  }\n",
              "\n",
              "  @keyframes spin {\n",
              "    0% {\n",
              "      border-color: transparent;\n",
              "      border-bottom-color: var(--fill-color);\n",
              "      border-left-color: var(--fill-color);\n",
              "    }\n",
              "    20% {\n",
              "      border-color: transparent;\n",
              "      border-left-color: var(--fill-color);\n",
              "      border-top-color: var(--fill-color);\n",
              "    }\n",
              "    30% {\n",
              "      border-color: transparent;\n",
              "      border-left-color: var(--fill-color);\n",
              "      border-top-color: var(--fill-color);\n",
              "      border-right-color: var(--fill-color);\n",
              "    }\n",
              "    40% {\n",
              "      border-color: transparent;\n",
              "      border-right-color: var(--fill-color);\n",
              "      border-top-color: var(--fill-color);\n",
              "    }\n",
              "    60% {\n",
              "      border-color: transparent;\n",
              "      border-right-color: var(--fill-color);\n",
              "    }\n",
              "    80% {\n",
              "      border-color: transparent;\n",
              "      border-right-color: var(--fill-color);\n",
              "      border-bottom-color: var(--fill-color);\n",
              "    }\n",
              "    90% {\n",
              "      border-color: transparent;\n",
              "      border-bottom-color: var(--fill-color);\n",
              "    }\n",
              "  }\n",
              "</style>\n",
              "\n",
              "  <script>\n",
              "    async function quickchart(key) {\n",
              "      const quickchartButtonEl =\n",
              "        document.querySelector('#' + key + ' button');\n",
              "      quickchartButtonEl.disabled = true;  // To prevent multiple clicks.\n",
              "      quickchartButtonEl.classList.add('colab-df-spinner');\n",
              "      try {\n",
              "        const charts = await google.colab.kernel.invokeFunction(\n",
              "            'suggestCharts', [key], {});\n",
              "      } catch (error) {\n",
              "        console.error('Error during call to suggestCharts:', error);\n",
              "      }\n",
              "      quickchartButtonEl.classList.remove('colab-df-spinner');\n",
              "      quickchartButtonEl.classList.add('colab-df-quickchart-complete');\n",
              "    }\n",
              "    (() => {\n",
              "      let quickchartButtonEl =\n",
              "        document.querySelector('#df-9f29507d-c118-419c-a98a-99c87039441b button');\n",
              "      quickchartButtonEl.style.display =\n",
              "        google.colab.kernel.accessAllowed ? 'block' : 'none';\n",
              "    })();\n",
              "  </script>\n",
              "</div>\n",
              "\n",
              "    </div>\n",
              "  </div>\n"
            ],
            "application/vnd.google.colaboratory.intrinsic+json": {
              "type": "dataframe",
              "variable_name": "act_vs_pred_summaries_df",
              "summary": "{\n  \"name\": \"act_vs_pred_summaries_df\",\n  \"rows\": 50,\n  \"fields\": [\n    {\n      \"column\": \"Predicted_Summaries\",\n      \"properties\": {\n        \"dtype\": \"string\",\n        \"num_unique_values\": 50,\n        \"samples\": [\n          \" The 27-year-old is unattached after leaving the club in july . The former udinese man initially joined the hornets on loan in 2012, before signing on a free transfer in 2013 . He has two senior international caps for sweden, making 100 appearances in total .\",\n          \" kory friesen, known as semphis, said he had taken an adhd medicine called adderall at a tournament in march . The electronic sports league (esl) said it would work with the world anti-doping agency to create a fair, feasible and conclusive policy . esl says it is the world largest esports organisation, with close to six million members .\",\n          \" bjarne sj\\u00f6strand, 52, spotted a long, thin object in the water on google maps . The systems administrator was at home in stockholm when he spotted the object on a google earth image taken above horse shoe scree on the loch's southern side . He has never visited scotland but hopes he will visit loch ness one day .\"\n        ],\n        \"semantic_type\": \"\",\n        \"description\": \"\"\n      }\n    },\n    {\n      \"column\": \"Reference_summaries\",\n      \"properties\": {\n        \"dtype\": \"string\",\n        \"num_unique_values\": 50,\n        \"samples\": [\n          \"former watford defender joel ekstrand is currently training with bristol city, head coach lee johnson has said.\",\n          \"a top video game tournament company has launched an anti-doping scheme, after a top player admitted taking a performance-enhancing drug.\",\n          \"bjarne sj\\u00f6strand decided to search the internet after reading about nessie . he was in his flat in stockholm, 800 miles from loch ness in scotland . he then spotted a long, thin eel-like object in the water on google images . entered the intriguing picture in a competition and won \\u00a32,000 . latest in a series of possible nessie sightings in the last few years .\"\n        ],\n        \"semantic_type\": \"\",\n        \"description\": \"\"\n      }\n    }\n  ]\n}"
            }
          },
          "metadata": {},
          "execution_count": 25
        }
      ],
      "source": [
        "act_vs_pred_summaries_df = pd.DataFrame(\n",
        "    list(zip(candidate_summaries, summaries_txt[:50])),\n",
        "    columns = [\"Predicted_Summaries\", \"Reference_summaries\"]\n",
        ")\n",
        "\n",
        "act_vs_pred_summaries_df.head(10)"
      ]
    },
    {
      "cell_type": "code",
      "execution_count": null,
      "id": "9RyoayUfZCZg",
      "metadata": {
        "id": "9RyoayUfZCZg"
      },
      "outputs": [],
      "source": []
    }
  ],
  "metadata": {
    "colab": {
      "provenance": [],
      "gpuType": "T4"
    },
    "kernelspec": {
      "display_name": "Python 3",
      "name": "python3"
    },
    "language_info": {
      "codemirror_mode": {
        "name": "ipython",
        "version": 3
      },
      "file_extension": ".py",
      "mimetype": "text/x-python",
      "name": "python",
      "nbconvert_exporter": "python",
      "pygments_lexer": "ipython3",
      "version": "3.10.9"
    },
    "widgets": {
      "application/vnd.jupyter.widget-state+json": {
        "8851989e040d45dd891617cf641af224": {
          "model_module": "@jupyter-widgets/controls",
          "model_name": "HBoxModel",
          "model_module_version": "1.5.0",
          "state": {
            "_dom_classes": [],
            "_model_module": "@jupyter-widgets/controls",
            "_model_module_version": "1.5.0",
            "_model_name": "HBoxModel",
            "_view_count": null,
            "_view_module": "@jupyter-widgets/controls",
            "_view_module_version": "1.5.0",
            "_view_name": "HBoxView",
            "box_style": "",
            "children": [
              "IPY_MODEL_eb23190a0292467e89cad8c12459be3c",
              "IPY_MODEL_9a911798333344ec9beb9d175918e3f9",
              "IPY_MODEL_2a17fb4bda8747a7a42d09efccbcf10a"
            ],
            "layout": "IPY_MODEL_3a3667ec4afc462d993de5e169965af2"
          }
        },
        "eb23190a0292467e89cad8c12459be3c": {
          "model_module": "@jupyter-widgets/controls",
          "model_name": "HTMLModel",
          "model_module_version": "1.5.0",
          "state": {
            "_dom_classes": [],
            "_model_module": "@jupyter-widgets/controls",
            "_model_module_version": "1.5.0",
            "_model_name": "HTMLModel",
            "_view_count": null,
            "_view_module": "@jupyter-widgets/controls",
            "_view_module_version": "1.5.0",
            "_view_name": "HTMLView",
            "description": "",
            "description_tooltip": null,
            "layout": "IPY_MODEL_3d8c2af757c04925a8bf33d1dafa7f3a",
            "placeholder": "​",
            "style": "IPY_MODEL_c59fa1ff58d54829abcd3d5bbc411a92",
            "value": "Downloading builder script: 100%"
          }
        },
        "9a911798333344ec9beb9d175918e3f9": {
          "model_module": "@jupyter-widgets/controls",
          "model_name": "FloatProgressModel",
          "model_module_version": "1.5.0",
          "state": {
            "_dom_classes": [],
            "_model_module": "@jupyter-widgets/controls",
            "_model_module_version": "1.5.0",
            "_model_name": "FloatProgressModel",
            "_view_count": null,
            "_view_module": "@jupyter-widgets/controls",
            "_view_module_version": "1.5.0",
            "_view_name": "ProgressView",
            "bar_style": "success",
            "description": "",
            "description_tooltip": null,
            "layout": "IPY_MODEL_f5759e61d5c74c30a7803cbdcc0e355d",
            "max": 6270,
            "min": 0,
            "orientation": "horizontal",
            "style": "IPY_MODEL_f88ba35889fd47b583f74ea5f2243e07",
            "value": 6270
          }
        },
        "2a17fb4bda8747a7a42d09efccbcf10a": {
          "model_module": "@jupyter-widgets/controls",
          "model_name": "HTMLModel",
          "model_module_version": "1.5.0",
          "state": {
            "_dom_classes": [],
            "_model_module": "@jupyter-widgets/controls",
            "_model_module_version": "1.5.0",
            "_model_name": "HTMLModel",
            "_view_count": null,
            "_view_module": "@jupyter-widgets/controls",
            "_view_module_version": "1.5.0",
            "_view_name": "HTMLView",
            "description": "",
            "description_tooltip": null,
            "layout": "IPY_MODEL_bdac6a53f43c424ab76e53b4ccf62029",
            "placeholder": "​",
            "style": "IPY_MODEL_dc33dd6c6f8b4ba7a57f1816830d987d",
            "value": " 6.27k/6.27k [00:00&lt;00:00, 110kB/s]"
          }
        },
        "3a3667ec4afc462d993de5e169965af2": {
          "model_module": "@jupyter-widgets/base",
          "model_name": "LayoutModel",
          "model_module_version": "1.2.0",
          "state": {
            "_model_module": "@jupyter-widgets/base",
            "_model_module_version": "1.2.0",
            "_model_name": "LayoutModel",
            "_view_count": null,
            "_view_module": "@jupyter-widgets/base",
            "_view_module_version": "1.2.0",
            "_view_name": "LayoutView",
            "align_content": null,
            "align_items": null,
            "align_self": null,
            "border": null,
            "bottom": null,
            "display": null,
            "flex": null,
            "flex_flow": null,
            "grid_area": null,
            "grid_auto_columns": null,
            "grid_auto_flow": null,
            "grid_auto_rows": null,
            "grid_column": null,
            "grid_gap": null,
            "grid_row": null,
            "grid_template_areas": null,
            "grid_template_columns": null,
            "grid_template_rows": null,
            "height": null,
            "justify_content": null,
            "justify_items": null,
            "left": null,
            "margin": null,
            "max_height": null,
            "max_width": null,
            "min_height": null,
            "min_width": null,
            "object_fit": null,
            "object_position": null,
            "order": null,
            "overflow": null,
            "overflow_x": null,
            "overflow_y": null,
            "padding": null,
            "right": null,
            "top": null,
            "visibility": null,
            "width": null
          }
        },
        "3d8c2af757c04925a8bf33d1dafa7f3a": {
          "model_module": "@jupyter-widgets/base",
          "model_name": "LayoutModel",
          "model_module_version": "1.2.0",
          "state": {
            "_model_module": "@jupyter-widgets/base",
            "_model_module_version": "1.2.0",
            "_model_name": "LayoutModel",
            "_view_count": null,
            "_view_module": "@jupyter-widgets/base",
            "_view_module_version": "1.2.0",
            "_view_name": "LayoutView",
            "align_content": null,
            "align_items": null,
            "align_self": null,
            "border": null,
            "bottom": null,
            "display": null,
            "flex": null,
            "flex_flow": null,
            "grid_area": null,
            "grid_auto_columns": null,
            "grid_auto_flow": null,
            "grid_auto_rows": null,
            "grid_column": null,
            "grid_gap": null,
            "grid_row": null,
            "grid_template_areas": null,
            "grid_template_columns": null,
            "grid_template_rows": null,
            "height": null,
            "justify_content": null,
            "justify_items": null,
            "left": null,
            "margin": null,
            "max_height": null,
            "max_width": null,
            "min_height": null,
            "min_width": null,
            "object_fit": null,
            "object_position": null,
            "order": null,
            "overflow": null,
            "overflow_x": null,
            "overflow_y": null,
            "padding": null,
            "right": null,
            "top": null,
            "visibility": null,
            "width": null
          }
        },
        "c59fa1ff58d54829abcd3d5bbc411a92": {
          "model_module": "@jupyter-widgets/controls",
          "model_name": "DescriptionStyleModel",
          "model_module_version": "1.5.0",
          "state": {
            "_model_module": "@jupyter-widgets/controls",
            "_model_module_version": "1.5.0",
            "_model_name": "DescriptionStyleModel",
            "_view_count": null,
            "_view_module": "@jupyter-widgets/base",
            "_view_module_version": "1.2.0",
            "_view_name": "StyleView",
            "description_width": ""
          }
        },
        "f5759e61d5c74c30a7803cbdcc0e355d": {
          "model_module": "@jupyter-widgets/base",
          "model_name": "LayoutModel",
          "model_module_version": "1.2.0",
          "state": {
            "_model_module": "@jupyter-widgets/base",
            "_model_module_version": "1.2.0",
            "_model_name": "LayoutModel",
            "_view_count": null,
            "_view_module": "@jupyter-widgets/base",
            "_view_module_version": "1.2.0",
            "_view_name": "LayoutView",
            "align_content": null,
            "align_items": null,
            "align_self": null,
            "border": null,
            "bottom": null,
            "display": null,
            "flex": null,
            "flex_flow": null,
            "grid_area": null,
            "grid_auto_columns": null,
            "grid_auto_flow": null,
            "grid_auto_rows": null,
            "grid_column": null,
            "grid_gap": null,
            "grid_row": null,
            "grid_template_areas": null,
            "grid_template_columns": null,
            "grid_template_rows": null,
            "height": null,
            "justify_content": null,
            "justify_items": null,
            "left": null,
            "margin": null,
            "max_height": null,
            "max_width": null,
            "min_height": null,
            "min_width": null,
            "object_fit": null,
            "object_position": null,
            "order": null,
            "overflow": null,
            "overflow_x": null,
            "overflow_y": null,
            "padding": null,
            "right": null,
            "top": null,
            "visibility": null,
            "width": null
          }
        },
        "f88ba35889fd47b583f74ea5f2243e07": {
          "model_module": "@jupyter-widgets/controls",
          "model_name": "ProgressStyleModel",
          "model_module_version": "1.5.0",
          "state": {
            "_model_module": "@jupyter-widgets/controls",
            "_model_module_version": "1.5.0",
            "_model_name": "ProgressStyleModel",
            "_view_count": null,
            "_view_module": "@jupyter-widgets/base",
            "_view_module_version": "1.2.0",
            "_view_name": "StyleView",
            "bar_color": null,
            "description_width": ""
          }
        },
        "bdac6a53f43c424ab76e53b4ccf62029": {
          "model_module": "@jupyter-widgets/base",
          "model_name": "LayoutModel",
          "model_module_version": "1.2.0",
          "state": {
            "_model_module": "@jupyter-widgets/base",
            "_model_module_version": "1.2.0",
            "_model_name": "LayoutModel",
            "_view_count": null,
            "_view_module": "@jupyter-widgets/base",
            "_view_module_version": "1.2.0",
            "_view_name": "LayoutView",
            "align_content": null,
            "align_items": null,
            "align_self": null,
            "border": null,
            "bottom": null,
            "display": null,
            "flex": null,
            "flex_flow": null,
            "grid_area": null,
            "grid_auto_columns": null,
            "grid_auto_flow": null,
            "grid_auto_rows": null,
            "grid_column": null,
            "grid_gap": null,
            "grid_row": null,
            "grid_template_areas": null,
            "grid_template_columns": null,
            "grid_template_rows": null,
            "height": null,
            "justify_content": null,
            "justify_items": null,
            "left": null,
            "margin": null,
            "max_height": null,
            "max_width": null,
            "min_height": null,
            "min_width": null,
            "object_fit": null,
            "object_position": null,
            "order": null,
            "overflow": null,
            "overflow_x": null,
            "overflow_y": null,
            "padding": null,
            "right": null,
            "top": null,
            "visibility": null,
            "width": null
          }
        },
        "dc33dd6c6f8b4ba7a57f1816830d987d": {
          "model_module": "@jupyter-widgets/controls",
          "model_name": "DescriptionStyleModel",
          "model_module_version": "1.5.0",
          "state": {
            "_model_module": "@jupyter-widgets/controls",
            "_model_module_version": "1.5.0",
            "_model_name": "DescriptionStyleModel",
            "_view_count": null,
            "_view_module": "@jupyter-widgets/base",
            "_view_module_version": "1.2.0",
            "_view_name": "StyleView",
            "description_width": ""
          }
        }
      }
    },
    "accelerator": "GPU"
  },
  "nbformat": 4,
  "nbformat_minor": 5
}